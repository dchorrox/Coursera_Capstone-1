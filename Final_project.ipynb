{
  "cells": [
    {
      "cell_type": "markdown",
      "source": [
        "   "
      ],
      "metadata": {
        "button": false,
        "new_sheet": false,
        "run_control": {
          "read_only": false
        }
      }
    },
    {
      "cell_type": "markdown",
      "source": [
        "# Capstone Project - The Battle of Neighborhoods\n",
        "\n",
        "### Introduction\n",
        "\n",
        "\n",
        "\n",
        "**\"What would you recommend in New York City to open a new afforable hotel?\"**\n",
        "\n",
        "New York City's demographics show that it is a large and ethnically diverse metropolis. It is the largest city in the United States with a long history of international immigration. New York City was home to nearly 8.5 million people in 2014, accounting for over 40% of the population of New York State and a slightly lower percentage of the New York metropolitan area, home to approximately 23.6 million. Over the last decade the city has been growing faster than the region. The New York region continues to be by far the leading metropolitan gateway for legal immigrants admitted into the United States.\n",
        "\n",
        "New York City is so much more than a bunch of amazing points of interest spread across 5 boroughs.What truly makes this city so special is its distinct neighborhoods which themselves make up the integral parts of New York."
      ],
      "metadata": {
        "button": false,
        "new_sheet": false,
        "run_control": {
          "read_only": false
        }
      }
    },
    {
      "cell_type": "markdown",
      "source": [
        "### Data\n",
        "For this project we need the following data :\n",
        "\n",
        "- New York City data that contains list Boroughs, Neighborhoods along with their latitude and longitude.\n",
        "  - Data source : https://cocl.us/new_york_dataset\n",
        "  - Description : This data set contains the required information. And we will use this data set to explore various neighborhoods of new york city.\n",
        "- Hotels in each neighborhood of new york city.\n",
        "  - Data source : Fousquare API\n",
        "  - Description : By using this api we will get all the venues in each neighborhood. We can filter these venues to get only hotels."
      ],
      "metadata": {
        "button": false,
        "new_sheet": false,
        "run_control": {
          "read_only": false
        }
      }
    },
    {
      "cell_type": "markdown",
      "source": [
        "#### Import necessary Libraries"
      ],
      "metadata": {
        "button": false,
        "new_sheet": false,
        "run_control": {
          "read_only": false
        }
      }
    },
    {
      "cell_type": "code",
      "source": [
        "import pandas as pd\n",
        "import numpy as np\n",
        "pd.set_option('display.max_columns', None)\n",
        "pd.set_option('display.max_rows', None)\n",
        "import requests\n",
        "from bs4 import BeautifulSoup\n",
        "#!conda install -c conda-forge geocoder --yes\n",
        "import geocoder\n",
        "#!conda install -c conda-forge folium=0.5.0 --yes\n",
        "import folium # plotting library\n",
        "from geopy.geocoders import Nominatim \n",
        "import matplotlib.pyplot as plt\n",
        "import matplotlib.cm as cm\n",
        "import matplotlib.colors as colors\n",
        "%matplotlib inline\n",
        "\n",
        "\n",
        "print('Libraries imported.')"
      ],
      "outputs": [
        {
          "output_type": "stream",
          "name": "stdout",
          "text": [
            "Libraries imported.\n"
          ]
        }
      ],
      "execution_count": 1,
      "metadata": {
        "button": false,
        "new_sheet": false,
        "run_control": {
          "read_only": false
        }
      }
    },
    {
      "cell_type": "code",
      "source": [
        "radius=1000\n",
        "LIMIT=100\n",
        "CLIENT_ID = 'LXNSRTYLAO40EMNE1SMWQLF1JJATF30SPCIEGL0VTLJWCXH2' \n",
        "CLIENT_SECRET = 'AUQ54H4GOHU4PRL3ZATZNDLTBLSMLAR51V3GV304MXPWMQMK' \n",
        "VERSION = '20180605' "
      ],
      "outputs": [],
      "execution_count": 271,
      "metadata": {}
    },
    {
      "cell_type": "markdown",
      "source": [
        "  "
      ],
      "metadata": {
        "button": false,
        "new_sheet": false,
        "run_control": {
          "read_only": false
        }
      }
    },
    {
      "cell_type": "markdown",
      "source": [
        "### New York neighborhood general stats"
      ],
      "metadata": {}
    },
    {
      "cell_type": "code",
      "source": [
        "url='https://cocl.us/new_york_dataset'"
      ],
      "outputs": [],
      "execution_count": 6,
      "metadata": {}
    },
    {
      "cell_type": "code",
      "source": [
        "def get_data(url):\n",
        "    resp=requests.get(url).json()\n",
        "    features=resp['features']\n",
        "    column_names = ['Borough', 'Neighborhood', 'Latitude', 'Longitude'] \n",
        "    \n",
        "    new_york_data = pd.DataFrame(columns=column_names)\n",
        "    \n",
        "    for data in features:\n",
        "        borough = data['properties']['borough'] \n",
        "        neighborhood_name = data['properties']['name']\n",
        "        \n",
        "        neighborhood_latlon = data['geometry']['coordinates']\n",
        "        neighborhood_lat = neighborhood_latlon[1]\n",
        "        neighborhood_lon = neighborhood_latlon[0]\n",
        "    \n",
        "        new_york_data = new_york_data.append({'Borough': borough,\n",
        "                                          'Neighborhood': neighborhood_name,\n",
        "                                          'Latitude': neighborhood_lat,\n",
        "                                          'Longitude': neighborhood_lon}, ignore_index=True)\n",
        "    \n",
        "    return new_york_data"
      ],
      "outputs": [],
      "execution_count": 7,
      "metadata": {}
    },
    {
      "cell_type": "code",
      "source": [
        "new_york_data=get_data(url)\n",
        "new_york_data.head()"
      ],
      "outputs": [
        {
          "output_type": "execute_result",
          "execution_count": 8,
          "data": {
            "text/html": [
              "<div>\n",
              "<style scoped>\n",
              "    .dataframe tbody tr th:only-of-type {\n",
              "        vertical-align: middle;\n",
              "    }\n",
              "\n",
              "    .dataframe tbody tr th {\n",
              "        vertical-align: top;\n",
              "    }\n",
              "\n",
              "    .dataframe thead th {\n",
              "        text-align: right;\n",
              "    }\n",
              "</style>\n",
              "<table border=\"1\" class=\"dataframe\">\n",
              "  <thead>\n",
              "    <tr style=\"text-align: right;\">\n",
              "      <th></th>\n",
              "      <th>Borough</th>\n",
              "      <th>Neighborhood</th>\n",
              "      <th>Latitude</th>\n",
              "      <th>Longitude</th>\n",
              "    </tr>\n",
              "  </thead>\n",
              "  <tbody>\n",
              "    <tr>\n",
              "      <th>0</th>\n",
              "      <td>Bronx</td>\n",
              "      <td>Wakefield</td>\n",
              "      <td>40.894705</td>\n",
              "      <td>-73.847201</td>\n",
              "    </tr>\n",
              "    <tr>\n",
              "      <th>1</th>\n",
              "      <td>Bronx</td>\n",
              "      <td>Co-op City</td>\n",
              "      <td>40.874294</td>\n",
              "      <td>-73.829939</td>\n",
              "    </tr>\n",
              "    <tr>\n",
              "      <th>2</th>\n",
              "      <td>Bronx</td>\n",
              "      <td>Eastchester</td>\n",
              "      <td>40.887556</td>\n",
              "      <td>-73.827806</td>\n",
              "    </tr>\n",
              "    <tr>\n",
              "      <th>3</th>\n",
              "      <td>Bronx</td>\n",
              "      <td>Fieldston</td>\n",
              "      <td>40.895437</td>\n",
              "      <td>-73.905643</td>\n",
              "    </tr>\n",
              "    <tr>\n",
              "      <th>4</th>\n",
              "      <td>Bronx</td>\n",
              "      <td>Riverdale</td>\n",
              "      <td>40.890834</td>\n",
              "      <td>-73.912585</td>\n",
              "    </tr>\n",
              "  </tbody>\n",
              "</table>\n",
              "</div>"
            ],
            "text/plain": [
              "  Borough Neighborhood   Latitude  Longitude\n",
              "0   Bronx    Wakefield  40.894705 -73.847201\n",
              "1   Bronx   Co-op City  40.874294 -73.829939\n",
              "2   Bronx  Eastchester  40.887556 -73.827806\n",
              "3   Bronx    Fieldston  40.895437 -73.905643\n",
              "4   Bronx    Riverdale  40.890834 -73.912585"
            ]
          },
          "metadata": {}
        }
      ],
      "execution_count": 8,
      "metadata": {}
    },
    {
      "cell_type": "code",
      "source": [
        "plt.figure(figsize=(9,5), dpi = 80)\n",
        "plt.title('Number of Neighborhood for each Borough in New York City',fontsize = 15)\n",
        "plt.xlabel('Borough', fontsize = 13)\n",
        "plt.ylabel('Number of Neighborhood', fontsize=13)\n",
        "new_york_data.groupby('Borough')['Neighborhood'].count().plot(kind='barh')\n",
        "plt.show()"
      ],
      "outputs": [
        {
          "output_type": "display_data",
          "data": {
            "image/png": "[encoded data removed]",
            "text/plain": [
              "<matplotlib.figure.Figure at 0x7f264ba43588>"
            ]
          },
          "metadata": {}
        }
      ],
      "execution_count": 263,
      "metadata": {}
    },
    {
      "cell_type": "markdown",
      "source": [
        "### Get hotel venues in each neighborhood"
      ],
      "metadata": {}
    },
    {
      "cell_type": "code",
      "source": [
        "def get_venues(lat,lng):\n",
        "    \n",
        "    url = 'https://api.foursquare.com/v2/venues/explore?&client_id={}&client_secret={}&v={}&ll={},{}&radius={}&limit={}'.format(\n",
        "            CLIENT_ID, \n",
        "            CLIENT_SECRET, \n",
        "            VERSION, \n",
        "            lat, \n",
        "            lng, \n",
        "            radius, \n",
        "            LIMIT)\n",
        "\n",
        "    results = requests.get(url).json()\n",
        "    venues=results[\"response\"]['groups'][0]['items']\n",
        "    venue_details=[]\n",
        "    for row in venues:\n",
        "        try:\n",
        "            venue_id=row['venue']['id']\n",
        "            venue_name=row['venue']['name']\n",
        "            venue_category=row['venue']['categories'][0]['shortName']\n",
        "            venue_details.append([venue_id,venue_name,venue_category])\n",
        "        except KeyError:\n",
        "            pass\n",
        "        \n",
        "    column_names=['ID','Name','Category']\n",
        "    df = pd.DataFrame(venue_details,columns=column_names)\n",
        "    return df"
      ],
      "outputs": [],
      "execution_count": 272,
      "metadata": {}
    },
    {
      "cell_type": "code",
      "source": [
        "column_names=['Borough', 'Neighborhood', 'ID','Name']\n",
        "hotel_ny=pd.DataFrame(columns=column_names)\n",
        "count=1\n",
        "for row in new_york_data.values.tolist():\n",
        "    Borough, Neighborhood, Latitude, Longitude=row\n",
        "    print(row)\n",
        "    venues = get_venues(Latitude,Longitude)\n",
        "    hotels=venues[venues['Category']=='Hotel']   \n",
        "    print('(',count,'/',len(new_york_data),')','Hotels in '+Neighborhood+', '+Borough+':'+str(len(hotels)))\n",
        "    for hotel in hotels.values.tolist():\n",
        "        id, name , category=hotel\n",
        "        hotel_ny = hotel_ny.append({'Borough': Borough,\n",
        "                                                'Neighborhood': Neighborhood, \n",
        "                                                'ID': id,\n",
        "                                                'Name' : name\n",
        "                                               }, ignore_index=True)\n",
        "    count+=1"
      ],
      "outputs": [
        {
          "output_type": "stream",
          "name": "stdout",
          "text": [
            "['Bronx', 'Wakefield', 40.89470517661, -73.84720052054902]\n",
            "( 1 / 306 ) Hotels in Wakefield, Bronx:0\n",
            "['Bronx', 'Co-op City', 40.87429419303012, -73.82993910812398]\n",
            "( 2 / 306 ) Hotels in Co-op City, Bronx:1\n",
            "['Bronx', 'Eastchester', 40.887555677350775, -73.82780644716412]\n",
            "( 3 / 306 ) Hotels in Eastchester, Bronx:1\n",
            "['Bronx', 'Fieldston', 40.89543742690383, -73.90564259591682]\n",
            "( 4 / 306 ) Hotels in Fieldston, Bronx:0\n",
            "['Bronx', 'Riverdale', 40.890834493891305, -73.9125854610857]\n",
            "( 5 / 306 ) Hotels in Riverdale, Bronx:0\n",
            "['Bronx', 'Kingsbridge', 40.88168737120521, -73.90281798724604]\n",
            "( 6 / 306 ) Hotels in Kingsbridge, Bronx:0\n",
            "['Manhattan', 'Marble Hill', 40.87655077879964, -73.91065965862981]\n",
            "( 7 / 306 ) Hotels in Marble Hill, Manhattan:0\n",
            "['Bronx', 'Woodlawn', 40.89827261213805, -73.86731496814176]\n",
            "( 8 / 306 ) Hotels in Woodlawn, Bronx:0\n",
            "['Bronx', 'Norwood', 40.87722415599446, -73.8793907395681]\n",
            "( 9 / 306 ) Hotels in Norwood, Bronx:0\n",
            "['Bronx', 'Williamsbridge', 40.88103887819211, -73.85744642974207]\n",
            "( 10 / 306 ) Hotels in Williamsbridge, Bronx:0\n",
            "['Bronx', 'Baychester', 40.866858107252696, -73.83579759808117]\n",
            "( 11 / 306 ) Hotels in Baychester, Bronx:0\n",
            "['Bronx', 'Pelham Parkway', 40.85741349808865, -73.85475564017999]\n",
            "( 12 / 306 ) Hotels in Pelham Parkway, Bronx:0\n",
            "['Bronx', 'City Island', 40.84724670491813, -73.78648845267413]\n",
            "( 13 / 306 ) Hotels in City Island, Bronx:0\n",
            "['Bronx', 'Bedford Park', 40.870185164975325, -73.8855121841913]\n",
            "( 14 / 306 ) Hotels in Bedford Park, Bronx:0\n",
            "['Bronx', 'University Heights', 40.85572707719664, -73.9104159619131]\n",
            "( 15 / 306 ) Hotels in University Heights, Bronx:0\n",
            "['Bronx', 'Morris Heights', 40.84789792606271, -73.91967159119565]\n",
            "( 16 / 306 ) Hotels in Morris Heights, Bronx:0\n",
            "['Bronx', 'Fordham', 40.86099679638654, -73.89642655981623]\n",
            "( 17 / 306 ) Hotels in Fordham, Bronx:0\n",
            "['Bronx', 'East Tremont', 40.84269615786053, -73.88735617532338]\n",
            "( 18 / 306 ) Hotels in East Tremont, Bronx:0\n",
            "['Bronx', 'West Farms', 40.83947505672653, -73.87774474910545]\n",
            "( 19 / 306 ) Hotels in West Farms, Bronx:0\n",
            "['Bronx', 'High  Bridge', 40.836623010706056, -73.9261020935813]\n",
            "( 20 / 306 ) Hotels in High  Bridge, Bronx:0\n",
            "['Bronx', 'Melrose', 40.819754370594936, -73.90942160757436]\n",
            "( 21 / 306 ) Hotels in Melrose, Bronx:2\n",
            "['Bronx', 'Mott Haven', 40.80623874935177, -73.91609987487575]\n",
            "( 22 / 306 ) Hotels in Mott Haven, Bronx:0\n",
            "['Bronx', 'Port Morris', 40.801663627756206, -73.91322139386135]\n",
            "( 23 / 306 ) Hotels in Port Morris, Bronx:0\n",
            "['Bronx', 'Longwood', 40.81509904545822, -73.8957882009446]\n",
            "( 24 / 306 ) Hotels in Longwood, Bronx:0\n",
            "['Bronx', 'Hunts Point', 40.80972987938709, -73.88331505955291]\n",
            "( 25 / 306 ) Hotels in Hunts Point, Bronx:0\n",
            "['Bronx', 'Morrisania', 40.82359198585534, -73.90150648943059]\n",
            "( 26 / 306 ) Hotels in Morrisania, Bronx:1\n",
            "['Bronx', 'Soundview', 40.821012197914015, -73.86574609554924]\n",
            "( 27 / 306 ) Hotels in Soundview, Bronx:0\n",
            "['Bronx', 'Clason Point', 40.80655112003589, -73.85414416189266]\n",
            "( 28 / 306 ) Hotels in Clason Point, Bronx:0\n",
            "['Bronx', 'Throgs Neck', 40.81510925804005, -73.81635002158441]\n",
            "( 29 / 306 ) Hotels in Throgs Neck, Bronx:0\n",
            "['Bronx', 'Country Club', 40.844245936947374, -73.8240992675385]\n",
            "( 30 / 306 ) Hotels in Country Club, Bronx:0\n",
            "['Bronx', 'Parkchester', 40.837937822267286, -73.85600310535783]\n",
            "( 31 / 306 ) Hotels in Parkchester, Bronx:0\n",
            "['Bronx', 'Westchester Square', 40.8406194964327, -73.84219407604444]\n",
            "( 32 / 306 ) Hotels in Westchester Square, Bronx:1\n",
            "['Bronx', 'Van Nest', 40.84360847124718, -73.8662991807561]\n",
            "( 33 / 306 ) Hotels in Van Nest, Bronx:0\n",
            "['Bronx', 'Morris Park', 40.847549063536334, -73.85040178030421]\n",
            "( 34 / 306 ) Hotels in Morris Park, Bronx:1\n",
            "['Bronx', 'Belmont', 40.85727710073895, -73.88845196134804]\n",
            "( 35 / 306 ) Hotels in Belmont, Bronx:0\n",
            "['Bronx', 'Spuyten Duyvil', 40.88139497727086, -73.91719048210393]\n",
            "( 36 / 306 ) Hotels in Spuyten Duyvil, Bronx:0\n",
            "['Bronx', 'North Riverdale', 40.90854282950666, -73.90453054908927]\n",
            "( 37 / 306 ) Hotels in North Riverdale, Bronx:0\n",
            "['Bronx', 'Pelham Bay', 40.85064140940335, -73.8320737824047]\n",
            "( 38 / 306 ) Hotels in Pelham Bay, Bronx:1\n",
            "['Bronx', 'Schuylerville', 40.82657951686922, -73.82620275994073]\n",
            "( 39 / 306 ) Hotels in Schuylerville, Bronx:0\n",
            "['Bronx', 'Edgewater Park', 40.821986118163494, -73.81388514428619]\n",
            "( 40 / 306 ) Hotels in Edgewater Park, Bronx:0\n",
            "['Bronx', 'Castle Hill', 40.819014376988314, -73.84802729582735]\n",
            "( 41 / 306 ) Hotels in Castle Hill, Bronx:0\n",
            "['Bronx', 'Olinville', 40.87137078192371, -73.86332361652777]\n",
            "( 42 / 306 ) Hotels in Olinville, Bronx:0\n",
            "['Bronx', 'Pelham Gardens', 40.86296562477998, -73.84161194831223]\n",
            "( 43 / 306 ) Hotels in Pelham Gardens, Bronx:0\n",
            "['Bronx', 'Concourse', 40.83428380733851, -73.91558941773444]\n",
            "( 44 / 306 ) Hotels in Concourse, Bronx:1\n",
            "['Bronx', 'Unionport', 40.82977429787161, -73.85053524451935]\n",
            "( 45 / 306 ) Hotels in Unionport, Bronx:0\n",
            "['Bronx', 'Edenwald', 40.88456130303732, -73.84808271877168]\n",
            "( 46 / 306 ) Hotels in Edenwald, Bronx:1\n",
            "['Brooklyn', 'Bay Ridge', 40.625801065010656, -74.03062069353813]\n",
            "( 47 / 306 ) Hotels in Bay Ridge, Brooklyn:0\n",
            "['Brooklyn', 'Bensonhurst', 40.61100890202044, -73.99517998380729]\n",
            "( 48 / 306 ) Hotels in Bensonhurst, Brooklyn:0\n",
            "['Brooklyn', 'Sunset Park', 40.64510294925429, -74.01031618527784]\n",
            "( 49 / 306 ) Hotels in Sunset Park, Brooklyn:1\n",
            "['Brooklyn', 'Greenpoint', 40.7302009848647, -73.95424093127393]\n",
            "( 50 / 306 ) Hotels in Greenpoint, Brooklyn:0\n",
            "['Brooklyn', 'Gravesend', 40.59526001306593, -73.97347087708445]\n",
            "( 51 / 306 ) Hotels in Gravesend, Brooklyn:0\n",
            "['Brooklyn', 'Brighton Beach', 40.57682506566604, -73.96509448785336]\n",
            "( 52 / 306 ) Hotels in Brighton Beach, Brooklyn:0\n",
            "['Brooklyn', 'Sheepshead Bay', 40.58689012678384, -73.94318640482979]\n",
            "( 53 / 306 ) Hotels in Sheepshead Bay, Brooklyn:1\n",
            "['Brooklyn', 'Manhattan Terrace', 40.61443251335098, -73.95743840559939]\n",
            "( 54 / 306 ) Hotels in Manhattan Terrace, Brooklyn:0\n",
            "['Brooklyn', 'Flatbush', 40.63632589026677, -73.95840106533903]\n",
            "( 55 / 306 ) Hotels in Flatbush, Brooklyn:0\n",
            "['Brooklyn', 'Crown Heights', 40.67082917695294, -73.94329119073582]\n",
            "( 56 / 306 ) Hotels in Crown Heights, Brooklyn:0\n",
            "['Brooklyn', 'East Flatbush', 40.64171776668961, -73.93610256185836]\n",
            "( 57 / 306 ) Hotels in East Flatbush, Brooklyn:0\n",
            "['Brooklyn', 'Kensington', 40.642381958003526, -73.98042110559474]\n",
            "( 58 / 306 ) Hotels in Kensington, Brooklyn:1\n",
            "['Brooklyn', 'Windsor Terrace', 40.65694583575104, -73.98007340430172]\n",
            "( 59 / 306 ) Hotels in Windsor Terrace, Brooklyn:0\n",
            "['Brooklyn', 'Prospect Heights', 40.676822262254724, -73.9648592426269]\n",
            "( 60 / 306 ) Hotels in Prospect Heights, Brooklyn:0\n",
            "['Brooklyn', 'Brownsville', 40.66394994339755, -73.91023536176607]\n",
            "( 61 / 306 ) Hotels in Brownsville, Brooklyn:0\n",
            "['Brooklyn', 'Williamsburg', 40.70714439344251, -73.95811529220927]\n",
            "( 62 / 306 ) Hotels in Williamsburg, Brooklyn:0\n",
            "['Brooklyn', 'Bushwick', 40.69811611017901, -73.92525797487045]\n",
            "( 63 / 306 ) Hotels in Bushwick, Brooklyn:0\n",
            "['Brooklyn', 'Bedford Stuyvesant', 40.687231607720456, -73.94178488690297]\n",
            "( 64 / 306 ) Hotels in Bedford Stuyvesant, Brooklyn:0\n",
            "['Brooklyn', 'Brooklyn Heights', 40.695863722724084, -73.99378225496424]\n",
            "( 65 / 306 ) Hotels in Brooklyn Heights, Brooklyn:2\n",
            "['Brooklyn', 'Cobble Hill', 40.687919722485574, -73.99856139218463]\n",
            "( 66 / 306 ) Hotels in Cobble Hill, Brooklyn:0\n",
            "['Brooklyn', 'Carroll Gardens', 40.680540231076485, -73.99465372828006]\n",
            "( 67 / 306 ) Hotels in Carroll Gardens, Brooklyn:0\n",
            "['Brooklyn', 'Red Hook', 40.676253230250886, -74.0127589747356]\n",
            "( 68 / 306 ) Hotels in Red Hook, Brooklyn:2\n",
            "['Brooklyn', 'Gowanus', 40.673931143187154, -73.99444087145339]\n",
            "( 69 / 306 ) Hotels in Gowanus, Brooklyn:0\n",
            "['Brooklyn', 'Fort Greene', 40.68852726018977, -73.97290574369092]\n",
            "( 70 / 306 ) Hotels in Fort Greene, Brooklyn:0\n",
            "['Brooklyn', 'Park Slope', 40.67232052268197, -73.97705030183924]\n",
            "( 71 / 306 ) Hotels in Park Slope, Brooklyn:0\n",
            "['Brooklyn', 'Cypress Hills', 40.68239101144211, -73.87661596457296]\n",
            "( 72 / 306 ) Hotels in Cypress Hills, Brooklyn:0\n",
            "['Brooklyn', 'East New York', 40.669925700847045, -73.88069863917366]\n",
            "( 73 / 306 ) Hotels in East New York, Brooklyn:0\n",
            "['Brooklyn', 'Starrett City', 40.64758905230874, -73.87936970045875]\n",
            "( 74 / 306 ) Hotels in Starrett City, Brooklyn:0\n",
            "['Brooklyn', 'Canarsie', 40.63556432797428, -73.90209269778966]\n",
            "( 75 / 306 ) Hotels in Canarsie, Brooklyn:0\n",
            "['Brooklyn', 'Flatlands', 40.630446043757466, -73.92911302644674]\n",
            "( 76 / 306 ) Hotels in Flatlands, Brooklyn:0\n",
            "['Brooklyn', 'Mill Island', 40.606336421685626, -73.90818571777423]\n",
            "( 77 / 306 ) Hotels in Mill Island, Brooklyn:0\n",
            "['Brooklyn', 'Manhattan Beach', 40.57791350308657, -73.94353722891886]\n",
            "( 78 / 306 ) Hotels in Manhattan Beach, Brooklyn:1\n",
            "['Brooklyn', 'Coney Island', 40.57429256471601, -73.98868295821637]\n",
            "( 79 / 306 ) Hotels in Coney Island, Brooklyn:0\n",
            "['Brooklyn', 'Bath Beach', 40.59951870282238, -73.99875221443519]\n",
            "( 80 / 306 ) Hotels in Bath Beach, Brooklyn:0\n",
            "['Brooklyn', 'Borough Park', 40.633130512758015, -73.99049823044811]\n",
            "( 81 / 306 ) Hotels in Borough Park, Brooklyn:1\n",
            "['Brooklyn', 'Dyker Heights', 40.619219457722636, -74.01931375636022]\n",
            "( 82 / 306 ) Hotels in Dyker Heights, Brooklyn:0\n",
            "['Brooklyn', 'Gerritsen Beach', 40.590848433902046, -73.93010170691196]\n",
            "( 83 / 306 ) Hotels in Gerritsen Beach, Brooklyn:0\n",
            "['Brooklyn', 'Marine Park', 40.609747779894604, -73.93134404108497]\n",
            "( 84 / 306 ) Hotels in Marine Park, Brooklyn:0\n",
            "['Brooklyn', 'Clinton Hill', 40.693229421881504, -73.96784306216367]\n",
            "( 85 / 306 ) Hotels in Clinton Hill, Brooklyn:0\n",
            "['Brooklyn', 'Sea Gate', 40.57637537890224, -74.0078731120024]\n",
            "( 86 / 306 ) Hotels in Sea Gate, Brooklyn:0\n",
            "['Brooklyn', 'Downtown', 40.69084402109802, -73.98346337431099]\n",
            "( 87 / 306 ) Hotels in Downtown, Brooklyn:1\n",
            "['Brooklyn', 'Boerum Hill', 40.685682912091444, -73.98374824115798]\n",
            "( 88 / 306 ) Hotels in Boerum Hill, Brooklyn:1\n",
            "['Brooklyn', 'Prospect Lefferts Gardens', 40.658420017469815, -73.95489867077713]\n",
            "( 89 / 306 ) Hotels in Prospect Lefferts Gardens, Brooklyn:0\n",
            "['Brooklyn', 'Ocean Hill', 40.678402554795355, -73.91306831787395]\n",
            "( 90 / 306 ) Hotels in Ocean Hill, Brooklyn:1\n",
            "['Brooklyn', 'City Line', 40.67856995727479, -73.86797598081334]\n",
            "( 91 / 306 ) Hotels in City Line, Brooklyn:0\n",
            "['Brooklyn', 'Bergen Beach', 40.61514955045308, -73.89855633630317]\n",
            "( 92 / 306 ) Hotels in Bergen Beach, Brooklyn:0\n",
            "['Brooklyn', 'Midwood', 40.62559589869843, -73.95759523489838]\n",
            "( 93 / 306 ) Hotels in Midwood, Brooklyn:0\n",
            "['Brooklyn', 'Prospect Park South', 40.647008603185185, -73.96261316716048]\n",
            "( 94 / 306 ) Hotels in Prospect Park South, Brooklyn:0\n",
            "['Brooklyn', 'Georgetown', 40.62384524478419, -73.91607483951324]\n",
            "( 95 / 306 ) Hotels in Georgetown, Brooklyn:0\n",
            "['Brooklyn', 'East Williamsburg', 40.70849241041548, -73.93885815269195]\n",
            "( 96 / 306 ) Hotels in East Williamsburg, Brooklyn:0\n",
            "['Brooklyn', 'North Side', 40.714822906532014, -73.95880857587582]\n",
            "( 97 / 306 ) Hotels in North Side, Brooklyn:0\n",
            "['Brooklyn', 'South Side', 40.71086147265064, -73.95800095153331]\n",
            "( 98 / 306 ) Hotels in South Side, Brooklyn:0\n",
            "['Brooklyn', 'Ocean Parkway', 40.61305976667942, -73.96836678035541]\n",
            "( 99 / 306 ) Hotels in Ocean Parkway, Brooklyn:0\n",
            "['Brooklyn', 'Fort Hamilton', 40.61476812694226, -74.03197914537984]\n",
            "( 100 / 306 ) Hotels in Fort Hamilton, Brooklyn:0\n",
            "['Manhattan', 'Chinatown', 40.71561842231432, -73.99427936255978]\n",
            "( 101 / 306 ) Hotels in Chinatown, Manhattan:3\n",
            "['Manhattan', 'Washington Heights', 40.85190252555305, -73.93690027985234]\n",
            "( 102 / 306 ) Hotels in Washington Heights, Manhattan:0\n",
            "['Manhattan', 'Inwood', 40.86768396449915, -73.92121042203897]\n",
            "( 103 / 306 ) Hotels in Inwood, Manhattan:0\n",
            "['Manhattan', 'Hamilton Heights', 40.823604284811935, -73.94968791883366]\n",
            "( 104 / 306 ) Hotels in Hamilton Heights, Manhattan:0\n",
            "['Manhattan', 'Manhattanville', 40.8169344294978, -73.9573853935188]\n",
            "( 105 / 306 ) Hotels in Manhattanville, Manhattan:0\n",
            "['Manhattan', 'Central Harlem', 40.81597606742414, -73.94321112603905]\n",
            "( 106 / 306 ) Hotels in Central Harlem, Manhattan:0\n",
            "['Manhattan', 'East Harlem', 40.79224946663033, -73.94418223148524]\n",
            "( 107 / 306 ) Hotels in East Harlem, Manhattan:0\n",
            "['Manhattan', 'Upper East Side', 40.775638573301805, -73.96050763135]\n",
            "( 108 / 306 ) Hotels in Upper East Side, Manhattan:3\n",
            "['Manhattan', 'Yorkville', 40.775929849884875, -73.94711784471826]\n",
            "( 109 / 306 ) Hotels in Yorkville, Manhattan:0\n",
            "['Manhattan', 'Lenox Hill', 40.76811265828733, -73.9588596881376]\n",
            "( 110 / 306 ) Hotels in Lenox Hill, Manhattan:0\n",
            "['Manhattan', 'Roosevelt Island', 40.76215960576283, -73.94916769227953]\n",
            "( 111 / 306 ) Hotels in Roosevelt Island, Manhattan:1\n",
            "['Manhattan', 'Upper West Side', 40.787657998534854, -73.97705923630603]\n",
            "( 112 / 306 ) Hotels in Upper West Side, Manhattan:0\n",
            "['Manhattan', 'Lincoln Square', 40.77352888942166, -73.98533777001262]\n",
            "( 113 / 306 ) Hotels in Lincoln Square, Manhattan:1\n",
            "['Manhattan', 'Clinton', 40.75910089146212, -73.99611936309479]\n",
            "( 114 / 306 ) Hotels in Clinton, Manhattan:5\n",
            "['Manhattan', 'Midtown', 40.75469110270623, -73.98166882730304]\n",
            "( 115 / 306 ) Hotels in Midtown, Manhattan:4\n",
            "['Manhattan', 'Murray Hill', 40.748303077252174, -73.97833207924127]\n",
            "( 116 / 306 ) Hotels in Murray Hill, Manhattan:3\n",
            "['Manhattan', 'Chelsea', 40.744034706747975, -74.00311633472813]\n",
            "( 117 / 306 ) Hotels in Chelsea, Manhattan:3\n",
            "['Manhattan', 'Greenwich Village', 40.72693288536128, -73.99991402945902]\n",
            "( 118 / 306 ) Hotels in Greenwich Village, Manhattan:2\n",
            "['Manhattan', 'East Village', 40.727846777270244, -73.98222616506416]\n",
            "( 119 / 306 ) Hotels in East Village, Manhattan:0\n",
            "['Manhattan', 'Lower East Side', 40.71780674892765, -73.98089031999291]\n",
            "( 120 / 306 ) Hotels in Lower East Side, Manhattan:1\n",
            "['Manhattan', 'Tribeca', 40.721521967443216, -74.01068328559087]\n",
            "( 121 / 306 ) Hotels in Tribeca, Manhattan:4\n",
            "['Manhattan', 'Little Italy', 40.71932379395907, -73.99730467208073]\n",
            "( 122 / 306 ) Hotels in Little Italy, Manhattan:3\n",
            "['Manhattan', 'Soho', 40.72218384131794, -74.00065666959759]\n",
            "( 123 / 306 ) Hotels in Soho, Manhattan:2\n",
            "['Manhattan', 'West Village', 40.73443393572434, -74.00617998126812]\n",
            "( 124 / 306 ) Hotels in West Village, Manhattan:0\n",
            "['Manhattan', 'Manhattan Valley', 40.797307041702865, -73.96428617740655]\n",
            "( 125 / 306 ) Hotels in Manhattan Valley, Manhattan:0\n",
            "['Manhattan', 'Morningside Heights', 40.807999738165826, -73.96389627905332]\n",
            "( 126 / 306 ) Hotels in Morningside Heights, Manhattan:0\n",
            "['Manhattan', 'Gramercy', 40.737209832715, -73.98137594833541]\n",
            "( 127 / 306 ) Hotels in Gramercy, Manhattan:2\n",
            "['Manhattan', 'Battery Park City', 40.71193198394565, -74.01686930508617]\n",
            "( 128 / 306 ) Hotels in Battery Park City, Manhattan:2\n",
            "['Manhattan', 'Financial District', 40.70710710727048, -74.0106654452127]\n",
            "( 129 / 306 ) Hotels in Financial District, Manhattan:4\n",
            "['Queens', 'Astoria', 40.76850859335492, -73.91565374304234]\n",
            "( 130 / 306 ) Hotels in Astoria, Queens:0\n",
            "['Queens', 'Woodside', 40.74634908860222, -73.90184166838284]\n",
            "( 131 / 306 ) Hotels in Woodside, Queens:0\n",
            "['Queens', 'Jackson Heights', 40.75198138007367, -73.88282109164365]\n",
            "( 132 / 306 ) Hotels in Jackson Heights, Queens:0\n",
            "['Queens', 'Elmhurst', 40.744048505122024, -73.88165622288388]\n",
            "( 133 / 306 ) Hotels in Elmhurst, Queens:0\n",
            "['Queens', 'Howard Beach', 40.65422527738487, -73.8381376460028]\n",
            "( 134 / 306 ) Hotels in Howard Beach, Queens:0\n",
            "['Queens', 'Corona', 40.74238175015667, -73.85682497345258]\n",
            "( 135 / 306 ) Hotels in Corona, Queens:1\n",
            "['Queens', 'Forest Hills', 40.72526378216503, -73.84447500788983]\n",
            "( 136 / 306 ) Hotels in Forest Hills, Queens:0\n",
            "['Queens', 'Kew Gardens', 40.7051790354148, -73.82981905825703]\n",
            "( 137 / 306 ) Hotels in Kew Gardens, Queens:0\n",
            "['Queens', 'Richmond Hill', 40.69794731471763, -73.83183321446887]\n",
            "( 138 / 306 ) Hotels in Richmond Hill, Queens:0\n",
            "['Queens', 'Flushing', 40.76445419697846, -73.83177300329582]\n",
            "( 139 / 306 ) Hotels in Flushing, Queens:0\n",
            "['Queens', 'Long Island City', 40.75021734610528, -73.93920223915505]\n",
            "( 140 / 306 ) Hotels in Long Island City, Queens:9\n",
            "['Queens', 'Sunnyside', 40.74017628351924, -73.92691617561577]\n",
            "( 141 / 306 ) Hotels in Sunnyside, Queens:1\n",
            "['Queens', 'East Elmhurst', 40.76407323883091, -73.86704147658772]\n",
            "( 142 / 306 ) Hotels in East Elmhurst, Queens:3\n",
            "['Queens', 'Maspeth', 40.725427374093606, -73.89621713626859]\n",
            "( 143 / 306 ) Hotels in Maspeth, Queens:0\n",
            "['Queens', 'Ridgewood', 40.70832315613858, -73.90143517559589]\n",
            "( 144 / 306 ) Hotels in Ridgewood, Queens:0\n",
            "['Queens', 'Glendale', 40.70276242967838, -73.87074167435605]\n",
            "( 145 / 306 ) Hotels in Glendale, Queens:0\n",
            "['Queens', 'Rego Park', 40.72897409480735, -73.8578268690537]\n",
            "( 146 / 306 ) Hotels in Rego Park, Queens:0\n",
            "['Queens', 'Woodhaven', 40.68988687915789, -73.8581104655432]\n",
            "( 147 / 306 ) Hotels in Woodhaven, Queens:0\n",
            "['Queens', 'Ozone Park', 40.680708468265415, -73.84320266173447]\n",
            "( 148 / 306 ) Hotels in Ozone Park, Queens:1\n",
            "['Queens', 'South Ozone Park', 40.66854957767195, -73.80986478649041]\n",
            "( 149 / 306 ) Hotels in South Ozone Park, Queens:3\n",
            "['Queens', 'College Point', 40.784902749260205, -73.84304528896125]\n",
            "( 150 / 306 ) Hotels in College Point, Queens:1\n",
            "['Queens', 'Whitestone', 40.78129076602694, -73.81420216610863]\n",
            "( 151 / 306 ) Hotels in Whitestone, Queens:0\n",
            "['Queens', 'Bayside', 40.76604063281064, -73.7742736306867]\n",
            "( 152 / 306 ) Hotels in Bayside, Queens:0\n",
            "['Queens', 'Auburndale', 40.76172954903262, -73.79176243728061]\n",
            "( 153 / 306 ) Hotels in Auburndale, Queens:0\n",
            "['Queens', 'Little Neck', 40.7708261928267, -73.7388977558074]\n",
            "( 154 / 306 ) Hotels in Little Neck, Queens:0\n",
            "['Queens', 'Douglaston', 40.76684609790763, -73.7424982072733]\n",
            "( 155 / 306 ) Hotels in Douglaston, Queens:0\n",
            "['Queens', 'Glen Oaks', 40.74944079974332, -73.71548118999145]\n",
            "( 156 / 306 ) Hotels in Glen Oaks, Queens:0\n",
            "['Queens', 'Bellerose', 40.72857318176675, -73.72012814826903]\n",
            "( 157 / 306 ) Hotels in Bellerose, Queens:0\n",
            "['Queens', 'Kew Gardens Hills', 40.722578244228046, -73.82087764933566]\n",
            "( 158 / 306 ) Hotels in Kew Gardens Hills, Queens:0\n",
            "['Queens', 'Fresh Meadows', 40.7343944653313, -73.78271337003264]\n",
            "( 159 / 306 ) Hotels in Fresh Meadows, Queens:4\n",
            "['Queens', 'Briarwood', 40.71093547252271, -73.81174822458634]\n",
            "( 160 / 306 ) Hotels in Briarwood, Queens:0\n",
            "['Queens', 'Jamaica Center', 40.70465736068717, -73.79690165888289]\n",
            "( 161 / 306 ) Hotels in Jamaica Center, Queens:0\n",
            "['Queens', 'Oakland Gardens', 40.74561857141855, -73.75494976234332]\n",
            "( 162 / 306 ) Hotels in Oakland Gardens, Queens:0\n",
            "['Queens', 'Queens Village', 40.718893092167356, -73.73871484578424]\n",
            "( 163 / 306 ) Hotels in Queens Village, Queens:0\n",
            "['Queens', 'Hollis', 40.71124344191904, -73.75925009335594]\n",
            "( 164 / 306 ) Hotels in Hollis, Queens:0\n",
            "['Queens', 'South Jamaica', 40.696911253789885, -73.7904261313554]\n",
            "( 165 / 306 ) Hotels in South Jamaica, Queens:0\n",
            "['Queens', 'St. Albans', 40.69444538522359, -73.75867603727717]\n",
            "( 166 / 306 ) Hotels in St. Albans, Queens:0\n",
            "['Queens', 'Rochdale', 40.67521139591733, -73.77258787620906]\n",
            "( 167 / 306 ) Hotels in Rochdale, Queens:0\n",
            "['Queens', 'Springfield Gardens', 40.666230490368584, -73.76042092682287]\n",
            "( 168 / 306 ) Hotels in Springfield Gardens, Queens:0\n",
            "['Queens', 'Cambria Heights', 40.692774639160845, -73.73526873708026]\n",
            "( 169 / 306 ) Hotels in Cambria Heights, Queens:0\n",
            "['Queens', 'Rosedale', 40.659816433428084, -73.73526079428278]\n",
            "( 170 / 306 ) Hotels in Rosedale, Queens:0\n",
            "['Queens', 'Far Rockaway', 40.603134432500894, -73.75497968043872]\n",
            "( 171 / 306 ) Hotels in Far Rockaway, Queens:0\n",
            "['Queens', 'Broad Channel', 40.60302658351238, -73.8200548911032]\n",
            "( 172 / 306 ) Hotels in Broad Channel, Queens:0\n",
            "['Queens', 'Breezy Point', 40.55740128845452, -73.92551196994168]\n",
            "( 173 / 306 ) Hotels in Breezy Point, Queens:0\n",
            "['Queens', 'Steinway', 40.775923015642896, -73.90228960391673]\n",
            "( 174 / 306 ) Hotels in Steinway, Queens:1\n",
            "['Queens', 'Beechhurst', 40.79278140360048, -73.80436451720988]\n",
            "( 175 / 306 ) Hotels in Beechhurst, Queens:0\n",
            "['Queens', 'Bay Terrace', 40.782842806245554, -73.7768022262158]\n",
            "( 176 / 306 ) Hotels in Bay Terrace, Queens:0\n",
            "['Queens', 'Edgemere', 40.595641807368494, -73.77613282391705]\n",
            "( 177 / 306 ) Hotels in Edgemere, Queens:1\n",
            "['Queens', 'Arverne', 40.58914394372971, -73.79199233136943]\n",
            "( 178 / 306 ) Hotels in Arverne, Queens:1\n",
            "['Queens', 'Rockaway Beach', 40.582801696845586, -73.82236121088751]\n",
            "( 179 / 306 ) Hotels in Rockaway Beach, Queens:0\n",
            "['Queens', 'Neponsit', 40.572036730217015, -73.85754672410827]\n",
            "( 180 / 306 ) Hotels in Neponsit, Queens:0\n",
            "['Queens', 'Murray Hill', 40.764126122614066, -73.81276269135866]\n",
            "( 181 / 306 ) Hotels in Murray Hill, Queens:0\n",
            "['Queens', 'Floral Park', 40.741378421945434, -73.70884705889246]\n",
            "( 182 / 306 ) Hotels in Floral Park, Queens:0\n",
            "['Queens', 'Holliswood', 40.7209572076444, -73.76714166714729]\n",
            "( 183 / 306 ) Hotels in Holliswood, Queens:0\n",
            "['Queens', 'Jamaica Estates', 40.71680483014613, -73.7872269693666]\n",
            "( 184 / 306 ) Hotels in Jamaica Estates, Queens:0\n",
            "['Queens', 'Queensboro Hill', 40.7445723092867, -73.82580915110559]\n",
            "( 185 / 306 ) Hotels in Queensboro Hill, Queens:0\n",
            "['Queens', 'Hillcrest', 40.723824901829204, -73.79760300912672]\n",
            "( 186 / 306 ) Hotels in Hillcrest, Queens:0\n",
            "['Queens', 'Ravenswood', 40.761704526054146, -73.93157506072878]\n",
            "( 187 / 306 ) Hotels in Ravenswood, Queens:1\n",
            "['Queens', 'Lindenwood', 40.66391841925139, -73.84963782402441]\n",
            "( 188 / 306 ) Hotels in Lindenwood, Queens:1\n",
            "['Queens', 'Laurelton', 40.66788389660247, -73.74025607989822]\n",
            "( 189 / 306 ) Hotels in Laurelton, Queens:0\n",
            "['Queens', 'Lefrak City', 40.736074570830795, -73.8625247141374]\n",
            "( 190 / 306 ) Hotels in Lefrak City, Queens:0\n",
            "['Queens', 'Belle Harbor', 40.57615556543109, -73.8540175039252]\n",
            "( 191 / 306 ) Hotels in Belle Harbor, Queens:0\n",
            "['Queens', 'Rockaway Park', 40.58034295646131, -73.84153370226186]\n",
            "( 192 / 306 ) Hotels in Rockaway Park, Queens:0\n",
            "['Queens', 'Somerville', 40.59771061565768, -73.79664750844047]\n",
            "( 193 / 306 ) Hotels in Somerville, Queens:0\n",
            "['Queens', 'Brookville', 40.66000322733613, -73.75175310731153]\n",
            "( 194 / 306 ) Hotels in Brookville, Queens:0\n",
            "['Queens', 'Bellaire', 40.73301404027834, -73.73889198912481]\n",
            "( 195 / 306 ) Hotels in Bellaire, Queens:0\n",
            "['Queens', 'North Corona', 40.7540709990489, -73.85751790676447]\n",
            "( 196 / 306 ) Hotels in North Corona, Queens:1\n",
            "['Queens', 'Forest Hills Gardens', 40.7146110815117, -73.8410221123401]\n",
            "( 197 / 306 ) Hotels in Forest Hills Gardens, Queens:0\n",
            "['Staten Island', 'St. George', 40.6449815710044, -74.07935312512797]\n",
            "( 198 / 306 ) Hotels in St. George, Staten Island:0\n",
            "['Staten Island', 'New Brighton', 40.64061455913511, -74.08701650516625]\n",
            "( 199 / 306 ) Hotels in New Brighton, Staten Island:0\n",
            "['Staten Island', 'Stapleton', 40.62692762538176, -74.07790192660066]\n",
            "( 200 / 306 ) Hotels in Stapleton, Staten Island:0\n",
            "['Staten Island', 'Rosebank', 40.61530494652761, -74.06980526716141]\n",
            "( 201 / 306 ) Hotels in Rosebank, Staten Island:1\n",
            "['Staten Island', 'West Brighton', 40.63187892654607, -74.1071817826561]\n",
            "( 202 / 306 ) Hotels in West Brighton, Staten Island:0\n",
            "['Staten Island', 'Grymes Hill', 40.624184791313006, -74.08724819983729]\n",
            "( 203 / 306 ) Hotels in Grymes Hill, Staten Island:0\n",
            "['Staten Island', 'Todt Hill', 40.59706851814673, -74.1113288180088]\n",
            "( 204 / 306 ) Hotels in Todt Hill, Staten Island:0\n",
            "['Staten Island', 'South Beach', 40.58024741350956, -74.0795529253982]\n",
            "( 205 / 306 ) Hotels in South Beach, Staten Island:0\n",
            "['Staten Island', 'Port Richmond', 40.63366930554365, -74.12943426797008]\n",
            "( 206 / 306 ) Hotels in Port Richmond, Staten Island:0\n",
            "['Staten Island', \"Mariner's Harbor\", 40.632546390481124, -74.15008537046981]\n",
            "( 207 / 306 ) Hotels in Mariner's Harbor, Staten Island:0\n",
            "['Staten Island', 'Port Ivory', 40.63968297845542, -74.17464532993542]\n",
            "( 208 / 306 ) Hotels in Port Ivory, Staten Island:0\n",
            "['Staten Island', 'Castleton Corners', 40.61333593766742, -74.11918058534842]\n",
            "( 209 / 306 ) Hotels in Castleton Corners, Staten Island:0\n",
            "['Staten Island', 'New Springville', 40.594252379161695, -74.16496031329827]\n",
            "( 210 / 306 ) Hotels in New Springville, Staten Island:0\n",
            "['Staten Island', 'Travis', 40.58631375103281, -74.19073717538116]\n",
            "( 211 / 306 ) Hotels in Travis, Staten Island:1\n",
            "['Staten Island', 'New Dorp', 40.57257231820632, -74.1164794360638]\n",
            "( 212 / 306 ) Hotels in New Dorp, Staten Island:0\n",
            "['Staten Island', 'Oakwood', 40.5584622432888, -74.12156593771896]\n",
            "( 213 / 306 ) Hotels in Oakwood, Staten Island:0\n",
            "['Staten Island', 'Great Kills', 40.549480228713605, -74.14932381490992]\n",
            "( 214 / 306 ) Hotels in Great Kills, Staten Island:0\n",
            "['Staten Island', 'Eltingville', 40.542230747450745, -74.1643308041936]\n",
            "( 215 / 306 ) Hotels in Eltingville, Staten Island:0\n",
            "['Staten Island', 'Annadale', 40.53811417474507, -74.17854866165878]\n",
            "( 216 / 306 ) Hotels in Annadale, Staten Island:0\n",
            "['Staten Island', 'Woodrow', 40.541967622888755, -74.20524582480326]\n",
            "( 217 / 306 ) Hotels in Woodrow, Staten Island:0\n",
            "['Staten Island', 'Tottenville', 40.50533376115642, -74.24656934235283]\n",
            "( 218 / 306 ) Hotels in Tottenville, Staten Island:0\n",
            "['Staten Island', 'Tompkinsville', 40.637316067110326, -74.08055351790115]\n",
            "( 219 / 306 ) Hotels in Tompkinsville, Staten Island:0\n",
            "['Staten Island', 'Silver Lake', 40.61919310792676, -74.09629029235458]\n",
            "( 220 / 306 ) Hotels in Silver Lake, Staten Island:0\n",
            "['Staten Island', 'Sunnyside', 40.61276015756489, -74.0971255217853]\n",
            "( 221 / 306 ) Hotels in Sunnyside, Staten Island:0\n",
            "['Brooklyn', 'Ditmas Park', 40.643675183340974, -73.96101312466779]\n",
            "( 222 / 306 ) Hotels in Ditmas Park, Brooklyn:0\n",
            "['Brooklyn', 'Wingate', 40.66094656188111, -73.93718680559314]\n",
            "( 223 / 306 ) Hotels in Wingate, Brooklyn:0\n",
            "['Brooklyn', 'Rugby', 40.655572313280764, -73.92688212616955]\n",
            "( 224 / 306 ) Hotels in Rugby, Brooklyn:0\n",
            "['Staten Island', 'Park Hill', 40.60919044434558, -74.08015734936296]\n",
            "( 225 / 306 ) Hotels in Park Hill, Staten Island:0\n",
            "['Staten Island', 'Westerleigh', 40.62109047275409, -74.13304143951704]\n",
            "( 226 / 306 ) Hotels in Westerleigh, Staten Island:0\n",
            "['Staten Island', 'Graniteville', 40.620171512231884, -74.15315246387762]\n",
            "( 227 / 306 ) Hotels in Graniteville, Staten Island:0\n",
            "['Staten Island', 'Arlington', 40.63532509911492, -74.16510420241124]\n",
            "( 228 / 306 ) Hotels in Arlington, Staten Island:0\n",
            "['Staten Island', 'Arrochar', 40.596312571276734, -74.06712363225574]\n",
            "( 229 / 306 ) Hotels in Arrochar, Staten Island:1\n",
            "['Staten Island', 'Grasmere', 40.59826835959991, -74.0766743627905]\n",
            "( 230 / 306 ) Hotels in Grasmere, Staten Island:0\n",
            "['Staten Island', 'Old Town', 40.59632891379513, -74.08751118005578]\n",
            "( 231 / 306 ) Hotels in Old Town, Staten Island:0\n",
            "['Staten Island', 'Dongan Hills', 40.588672948199275, -74.09639905312521]\n",
            "( 232 / 306 ) Hotels in Dongan Hills, Staten Island:0\n",
            "['Staten Island', 'Midland Beach', 40.57352690574283, -74.09348266303591]\n",
            "( 233 / 306 ) Hotels in Midland Beach, Staten Island:0\n",
            "['Staten Island', 'Grant City', 40.57621558711788, -74.10585598545434]\n",
            "( 234 / 306 ) Hotels in Grant City, Staten Island:0\n",
            "['Staten Island', 'New Dorp Beach', 40.56425549307335, -74.10432707469124]\n",
            "( 235 / 306 ) Hotels in New Dorp Beach, Staten Island:0\n",
            "['Staten Island', 'Bay Terrace', 40.55398800858462, -74.13916622175768]\n",
            "( 236 / 306 ) Hotels in Bay Terrace, Staten Island:0\n",
            "['Staten Island', 'Huguenot', 40.531911920489605, -74.19174105747814]\n",
            "( 237 / 306 ) Hotels in Huguenot, Staten Island:0\n",
            "['Staten Island', 'Pleasant Plains', 40.524699376118136, -74.21983106616777]\n",
            "( 238 / 306 ) Hotels in Pleasant Plains, Staten Island:0\n",
            "['Staten Island', 'Butler Manor', 40.50608165346305, -74.22950350260027]\n",
            "( 239 / 306 ) Hotels in Butler Manor, Staten Island:0\n",
            "['Staten Island', 'Charleston', 40.53053148283314, -74.23215775896526]\n",
            "( 240 / 306 ) Hotels in Charleston, Staten Island:1\n",
            "['Staten Island', 'Rossville', 40.54940400650072, -74.21572851113952]\n",
            "( 241 / 306 ) Hotels in Rossville, Staten Island:0\n",
            "['Staten Island', 'Arden Heights', 40.54928582278321, -74.18588674583893]\n",
            "( 242 / 306 ) Hotels in Arden Heights, Staten Island:0\n",
            "['Staten Island', 'Greenridge', 40.555295236173194, -74.17079414786092]\n",
            "( 243 / 306 ) Hotels in Greenridge, Staten Island:0\n",
            "['Staten Island', 'Heartland Village', 40.58913894875281, -74.15902208156601]\n",
            "( 244 / 306 ) Hotels in Heartland Village, Staten Island:0\n",
            "['Staten Island', 'Chelsea', 40.59472602746295, -74.1895604551969]\n",
            "( 245 / 306 ) Hotels in Chelsea, Staten Island:1\n",
            "['Staten Island', 'Bloomfield', 40.60577868452358, -74.18725638381567]\n",
            "( 246 / 306 ) Hotels in Bloomfield, Staten Island:0\n",
            "['Staten Island', 'Bulls Head', 40.6095918004203, -74.15940948657122]\n",
            "( 247 / 306 ) Hotels in Bulls Head, Staten Island:0\n",
            "['Manhattan', 'Carnegie Hill', 40.7826825671257, -73.95325646837112]\n",
            "( 248 / 306 ) Hotels in Carnegie Hill, Manhattan:0\n",
            "['Manhattan', 'Noho', 40.72325901885768, -73.98843368023597]\n",
            "( 249 / 306 ) Hotels in Noho, Manhattan:3\n",
            "['Manhattan', 'Civic Center', 40.71522892046282, -74.00541529873355]\n",
            "( 250 / 306 ) Hotels in Civic Center, Manhattan:4\n",
            "['Manhattan', 'Midtown South', 40.7485096643122, -73.98871313285247]\n",
            "( 251 / 306 ) Hotels in Midtown South, Manhattan:3\n",
            "['Staten Island', 'Richmond Town', 40.56960594275505, -74.1340572986257]\n",
            "( 252 / 306 ) Hotels in Richmond Town, Staten Island:0\n",
            "['Staten Island', 'Shore Acres', 40.60971934079284, -74.06667766061771]\n",
            "( 253 / 306 ) Hotels in Shore Acres, Staten Island:0\n",
            "['Staten Island', 'Clifton', 40.61917845202843, -74.072642445484]\n",
            "( 254 / 306 ) Hotels in Clifton, Staten Island:0\n",
            "['Staten Island', 'Concord', 40.6044731896879, -74.08402364740358]\n",
            "( 255 / 306 ) Hotels in Concord, Staten Island:1\n",
            "['Staten Island', 'Emerson Hill', 40.606794394801, -74.09776206972522]\n",
            "( 256 / 306 ) Hotels in Emerson Hill, Staten Island:0\n",
            "['Staten Island', 'Randall Manor', 40.63563000681151, -74.09805062373887]\n",
            "( 257 / 306 ) Hotels in Randall Manor, Staten Island:0\n",
            "['Staten Island', 'Howland Hook', 40.63843283794795, -74.18622331749823]\n",
            "( 258 / 306 ) Hotels in Howland Hook, Staten Island:0\n",
            "['Staten Island', 'Elm Park', 40.630146741193826, -74.1418167896889]\n",
            "( 259 / 306 ) Hotels in Elm Park, Staten Island:0\n",
            "['Brooklyn', 'Remsen Village', 40.652117451793494, -73.91665331978048]\n",
            "( 260 / 306 ) Hotels in Remsen Village, Brooklyn:0\n",
            "['Brooklyn', 'New Lots', 40.6627442796966, -73.88511776379292]\n",
            "( 261 / 306 ) Hotels in New Lots, Brooklyn:0\n",
            "['Brooklyn', 'Paerdegat Basin', 40.63131755039667, -73.90233474295836]\n",
            "( 262 / 306 ) Hotels in Paerdegat Basin, Brooklyn:0\n",
            "['Brooklyn', 'Mill Basin', 40.61597423962336, -73.91515391550404]\n",
            "( 263 / 306 ) Hotels in Mill Basin, Brooklyn:0\n",
            "['Queens', 'Jamaica Hills', 40.71145964370482, -73.79646462081593]\n",
            "( 264 / 306 ) Hotels in Jamaica Hills, Queens:0\n",
            "['Queens', 'Utopia', 40.73350025429757, -73.79671678028349]\n",
            "( 265 / 306 ) Hotels in Utopia, Queens:4\n",
            "['Queens', 'Pomonok', 40.73493618075478, -73.80486120040537]\n",
            "( 266 / 306 ) Hotels in Pomonok, Queens:0\n",
            "['Queens', 'Astoria Heights', 40.7703173929982, -73.89467996270574]\n",
            "( 267 / 306 ) Hotels in Astoria Heights, Queens:2\n",
            "['Bronx', 'Claremont Village', 40.83142834161548, -73.90119903387667]\n",
            "( 268 / 306 ) Hotels in Claremont Village, Bronx:0\n",
            "['Bronx', 'Concourse Village', 40.824780490842905, -73.91584652759009]\n",
            "( 269 / 306 ) Hotels in Concourse Village, Bronx:1\n",
            "['Bronx', 'Mount Eden', 40.84382617671654, -73.91655551964419]\n",
            "( 270 / 306 ) Hotels in Mount Eden, Bronx:0\n",
            "['Bronx', 'Mount Hope', 40.84884160724665, -73.90829930881988]\n",
            "( 271 / 306 ) Hotels in Mount Hope, Bronx:0\n",
            "['Manhattan', 'Sutton Place', 40.76028033131374, -73.96355614094303]\n",
            "( 272 / 306 ) Hotels in Sutton Place, Manhattan:1\n",
            "['Queens', 'Hunters Point', 40.743414090073536, -73.95386782130745]\n",
            "( 273 / 306 ) Hotels in Hunters Point, Queens:1\n",
            "['Manhattan', 'Turtle Bay', 40.75204236950722, -73.96770824581834]\n",
            "( 274 / 306 ) Hotels in Turtle Bay, Manhattan:2\n",
            "['Manhattan', 'Tudor City', 40.746917410740195, -73.97121928722265]\n",
            "( 275 / 306 ) Hotels in Tudor City, Manhattan:3\n",
            "['Manhattan', 'Stuyvesant Town', 40.73099955477061, -73.97405170469203]\n",
            "( 276 / 306 ) Hotels in Stuyvesant Town, Manhattan:0\n",
            "['Manhattan', 'Flatiron', 40.739673047638426, -73.9909471052826]\n",
            "( 277 / 306 ) Hotels in Flatiron, Manhattan:2\n",
            "['Queens', 'Sunnyside Gardens', 40.74565180608076, -73.91819286431682]\n",
            "( 278 / 306 ) Hotels in Sunnyside Gardens, Queens:0\n",
            "['Queens', 'Blissville', 40.73725071694497, -73.93244235260178]\n",
            "( 279 / 306 ) Hotels in Blissville, Queens:1\n",
            "['Brooklyn', 'Fulton Ferry', 40.70328109093014, -73.99550751888415]\n",
            "( 280 / 306 ) Hotels in Fulton Ferry, Brooklyn:1\n",
            "['Brooklyn', 'Vinegar Hill', 40.70332149882874, -73.98111603592393]\n",
            "( 281 / 306 ) Hotels in Vinegar Hill, Brooklyn:1\n",
            "['Brooklyn', 'Weeksville', 40.67503986503237, -73.93053108817338]\n",
            "( 282 / 306 ) Hotels in Weeksville, Brooklyn:0\n",
            "['Brooklyn', 'Broadway Junction', 40.67786104769531, -73.90331684852599]\n",
            "( 283 / 306 ) Hotels in Broadway Junction, Brooklyn:0\n",
            "['Brooklyn', 'Dumbo', 40.70317632822692, -73.9887528074504]\n",
            "( 284 / 306 ) Hotels in Dumbo, Brooklyn:1\n",
            "['Staten Island', 'Manor Heights', 40.60180957631444, -74.12059399718001]\n",
            "( 285 / 306 ) Hotels in Manor Heights, Staten Island:0\n",
            "['Staten Island', 'Willowbrook', 40.60370692627371, -74.13208447484298]\n",
            "( 286 / 306 ) Hotels in Willowbrook, Staten Island:0\n",
            "['Staten Island', 'Sandy Ground', 40.541139922091766, -74.21776636068567]\n",
            "( 287 / 306 ) Hotels in Sandy Ground, Staten Island:0\n",
            "['Staten Island', 'Egbertville', 40.579118742961214, -74.12727240604946]\n",
            "( 288 / 306 ) Hotels in Egbertville, Staten Island:0\n",
            "['Queens', 'Roxbury', 40.56737588957032, -73.89213760232822]\n",
            "( 289 / 306 ) Hotels in Roxbury, Queens:0\n",
            "['Brooklyn', 'Homecrest', 40.598525095137255, -73.95918459428702]\n",
            "( 290 / 306 ) Hotels in Homecrest, Brooklyn:0\n",
            "['Queens', 'Middle Village', 40.716414511158185, -73.88114319200604]\n",
            "( 291 / 306 ) Hotels in Middle Village, Queens:0\n",
            "['Staten Island', \"Prince's Bay\", 40.52626406734812, -74.20152556457658]\n",
            "( 292 / 306 ) Hotels in Prince's Bay, Staten Island:0\n",
            "['Staten Island', 'Lighthouse Hill', 40.57650629379489, -74.13792663771568]\n",
            "( 293 / 306 ) Hotels in Lighthouse Hill, Staten Island:0\n",
            "['Staten Island', 'Richmond Valley', 40.51954145748909, -74.22957080626941]\n",
            "( 294 / 306 ) Hotels in Richmond Valley, Staten Island:0\n",
            "['Queens', 'Malba', 40.79060155670148, -73.82667757138641]\n",
            "( 295 / 306 ) Hotels in Malba, Queens:1\n",
            "['Brooklyn', 'Highland Park', 40.6819989345173, -73.890345709872]\n",
            "( 296 / 306 ) Hotels in Highland Park, Brooklyn:0\n",
            "['Brooklyn', 'Madison', 40.60937770113766, -73.94841515328893]\n",
            "( 297 / 306 ) Hotels in Madison, Brooklyn:0\n",
            "['Bronx', 'Bronxdale', 40.85272297633017, -73.86172577555115]\n",
            "( 298 / 306 ) Hotels in Bronxdale, Bronx:0\n",
            "['Bronx', 'Allerton', 40.86578787802982, -73.85931863221647]\n",
            "( 299 / 306 ) Hotels in Allerton, Bronx:0\n",
            "['Bronx', 'Kingsbridge Heights', 40.8703923914147, -73.90152264513144]\n",
            "( 300 / 306 ) Hotels in Kingsbridge Heights, Bronx:0\n",
            "['Brooklyn', 'Erasmus', 40.64692606658579, -73.94817709920184]\n",
            "( 301 / 306 ) Hotels in Erasmus, Brooklyn:0\n",
            "['Manhattan', 'Hudson Yards', 40.75665808227519, -74.00011136202637]\n",
            "( 302 / 306 ) Hotels in Hudson Yards, Manhattan:6\n",
            "['Queens', 'Hammels', 40.58733774018741, -73.80553002968718]\n",
            "( 303 / 306 ) Hotels in Hammels, Queens:0\n",
            "['Queens', 'Bayswater', 40.611321691283834, -73.76596781445627]\n",
            "( 304 / 306 ) Hotels in Bayswater, Queens:0\n",
            "['Queens', 'Queensbridge', 40.756091297094706, -73.94563070334091]\n",
            "( 305 / 306 ) Hotels in Queensbridge, Queens:11\n",
            "['Staten Island', 'Fox Hills', 40.61731079252983, -74.08173992211962]\n",
            "( 306 / 306 ) Hotels in Fox Hills, Staten Island:0\n"
          ]
        }
      ],
      "execution_count": 273,
      "metadata": {}
    },
    {
      "cell_type": "markdown",
      "source": [
        "####  Manhattan has the largest number of hotels"
      ],
      "metadata": {
        "button": false,
        "new_sheet": false,
        "run_control": {
          "read_only": false
        }
      }
    },
    {
      "cell_type": "code",
      "source": [
        "plt.figure(figsize=(9,5), dpi = 80)\n",
        "plt.title('Number of Hotels in each Borough of New York City',fontsize = 15)\n",
        "plt.ylabel('Borough', fontsize = 13)\n",
        "plt.xlabel('Number of Hotels', fontsize=13)\n",
        "hotel_ny.groupby('Borough')['ID'].count().plot(kind='barh')\n",
        "plt.show()\n",
        "plt.close()"
      ],
      "outputs": [
        {
          "output_type": "display_data",
          "data": {
            "image/png": "[encoded data removed]",
            "text/plain": [
              "<matplotlib.figure.Figure at 0x7f264b9facc0>"
            ]
          },
          "metadata": {}
        }
      ],
      "execution_count": 274,
      "metadata": {}
    },
    {
      "cell_type": "markdown",
      "source": [
        "####  Queensbridge on top has 11 hotels"
      ],
      "metadata": {
        "button": false,
        "new_sheet": false,
        "run_control": {
          "read_only": false
        }
      }
    },
    {
      "cell_type": "code",
      "source": [
        "plt.figure(figsize=(9,5), dpi = 80)\n",
        "plt.title('Number of hotels for each Neighborhood in New York City')\n",
        "plt.ylabel('Neighborhood', fontsize = 13)\n",
        "plt.xlabel('Number of Hotels', fontsize=13)\n",
        "hotel_ny.groupby('Neighborhood')['ID'].count().nlargest(5).plot(kind='barh')\n",
        "plt.show()\n",
        "plt.close()"
      ],
      "outputs": [
        {
          "output_type": "display_data",
          "data": {
            "image/png": "[encoded data removed]",
            "text/plain": [
              "<matplotlib.figure.Figure at 0x7f264bbbf2e8>"
            ]
          },
          "metadata": {}
        }
      ],
      "execution_count": 275,
      "metadata": {
        "button": false,
        "new_sheet": false,
        "run_control": {
          "read_only": false
        }
      }
    },
    {
      "cell_type": "code",
      "source": [
        "hotel_ny[hotel_ny['Neighborhood']=='Queensbridge'].shape"
      ],
      "outputs": [
        {
          "output_type": "execute_result",
          "execution_count": 276,
          "data": {
            "text/plain": [
              "(11, 4)"
            ]
          },
          "metadata": {}
        }
      ],
      "execution_count": 276,
      "metadata": {
        "button": false,
        "new_sheet": false,
        "run_control": {
          "read_only": false
        },
        "scrolled": true
      }
    },
    {
      "cell_type": "markdown",
      "source": [
        "### Get venue details of individual hotel"
      ],
      "metadata": {
        "button": false,
        "new_sheet": false,
        "run_control": {
          "read_only": false
        }
      }
    },
    {
      "cell_type": "code",
      "source": [
        "def get_venue_details(venue_id):\n",
        "\n",
        "    url = 'https://api.foursquare.com/v2/venues/{}?&client_id={}&client_secret={}&v={}'.format(\n",
        "            venue_id,\n",
        "            CLIENT_ID, \n",
        "            CLIENT_SECRET, \n",
        "            VERSION)\n",
        "    \n",
        "    results = requests.get(url).json()\n",
        "    venue_data=results['response']['venue']\n",
        "    venue_details=[]\n",
        "    try:\n",
        "        venue_id=venue_data['id']\n",
        "        venue_name=venue_data['name']\n",
        "        venue_likes=venue_data['likes']['count']\n",
        "        venue_rating=venue_data['rating']\n",
        "        venue_type=venue_data['categories'][1]['name']\n",
        "        venue_details.append([venue_id,venue_name,venue_type,venue_likes,venue_rating])\n",
        "    except KeyError:\n",
        "        pass\n",
        "        \n",
        "    column_names=['ID','Name','Type','Likes','Rating']\n",
        "    df = pd.DataFrame(venue_details,columns=column_names)\n",
        "    return df"
      ],
      "outputs": [],
      "execution_count": 47,
      "metadata": {}
    },
    {
      "cell_type": "code",
      "source": [
        "column_names=['Borough', 'Neighborhood', 'ID','Name','Type','Likes','Rating']\n",
        "hotel_stats_ny=pd.DataFrame(columns=column_names)\n",
        "\n",
        "for row in hotel_ny.values.tolist():\n",
        "    Borough,Neighborhood,ID,Name=row\n",
        "    try:\n",
        "        venue_details=get_venue_details(ID)\n",
        "        print(venue_details)\n",
        "        id,name,type,likes,rating=venue_details.values.tolist()[0]\n",
        "    except IndexError:\n",
        "        print('No data available for id=',ID)\n",
        "        id,name,type,likes,rating=[0]*5\n",
        "    hotel_stats_ny = hotel_stats_ny.append({'Borough': Borough,\n",
        "                                                'Neighborhood': Neighborhood, \n",
        "                                                'ID': id,\n",
        "                                                'Name' : name,\n",
        "                                                'Type':type,\n",
        "                                                'Likes' : likes,\n",
        "                                                'Rating' : rating,\n",
        "                                               }, ignore_index=True)\n",
        "    \n"
      ],
      "outputs": [
        {
          "output_type": "stream",
          "name": "stdout",
          "text": [
            "                         ID          Name   Type  Likes  Rating\n",
            "0  4ca57d6e14c33704d2d0b63b  Ramada Bronx  Motel      3     5.6\n",
            "                         ID          Name   Type  Likes  Rating\n",
            "0  4ca57d6e14c33704d2d0b63b  Ramada Bronx  Motel      3     5.6\n",
            "No data available for id= 523122b311d2d7ba7a1a5f9c\n",
            "No data available for id= 4bded394fe0e62b5b8fa0506\n",
            "No data available for id= 4bded394fe0e62b5b8fa0506\n",
            "No data available for id= 54932887498ee0902b1ed511\n",
            "No data available for id= 54932887498ee0902b1ed511\n",
            "No data available for id= 54932887498ee0902b1ed511\n",
            "No data available for id= 4bded394fe0e62b5b8fa0506\n",
            "Empty DataFrame\n",
            "Columns: [ID, Name, Type, Likes, Rating]\n",
            "Index: []\n",
            "No data available for id= 4ba97dcbf964a5205e2a3ae3\n",
            "No data available for id= 55fd42dd498e4df93558ce8e\n",
            "No data available for id= 4bd1bb325e0cce7263e7a184\n",
            "No data available for id= 54c11afe498e78ed162cf4a6\n",
            "                         ID                     Name          Type  Likes  \\\n",
            "0  57ed4330498e34539123c310  1 Hotel Brooklyn Bridge  Wedding Hall    237   \n",
            "\n",
            "   Rating  \n",
            "0     9.1  \n",
            "No data available for id= 4a4d7a55f964a520f3ad1fe3\n",
            "No data available for id= 573f2fed498eadf7637cf2bf\n",
            "No data available for id= 4e8ee7de93ad4c1d6dba1c29\n",
            "No data available for id= 4bd1bb325e0cce7263e7a184\n",
            "No data available for id= 50ef0efb3950be41c0dc99ce\n",
            "No data available for id= 572cf571cd104595c5a0ea90\n",
            "No data available for id= 572cf571cd104595c5a0ea90\n",
            "Empty DataFrame\n",
            "Columns: [ID, Name, Type, Likes, Rating]\n",
            "Index: []\n",
            "No data available for id= 505c3b16e4b023e43f30e169\n",
            "                         ID                 Name    Type  Likes  Rating\n",
            "0  578692f4498e1054905dbde7  Hotel 50 Bowery NYC  Resort     71     9.0\n",
            "No data available for id= 51050d4e5262d6654ddc83e1\n",
            "No data available for id= 569823a1237c9cba6377efaf\n",
            "                         ID            Name       Type  Likes  Rating\n",
            "0  4b37853af964a520c54125e3  The Mark Hotel  Hotel Bar     88     8.7\n",
            "No data available for id= 4ac8d0d3f964a520b3bc20e3\n",
            "                         ID        Name Type  Likes  Rating\n",
            "0  4ae0e432f964a5206e8321e3  The Surrey  Spa     66     8.2\n",
            "No data available for id= 4bf9bcfdb182c9b69a78795a\n",
            "No data available for id= 4ae0fa2ff964a5203d8421e3\n",
            "No data available for id= 4b58b0a5f964a520d66528e3\n",
            "No data available for id= 4c2cdf2d8ef52d7fed9933ba\n",
            "No data available for id= 53c5b774498e3c9a5c9219b8\n",
            "No data available for id= 4a9f2ec3f964a520d73c20e3\n",
            "No data available for id= 558dff09498e0910b7cbf9bd\n",
            "No data available for id= 4b4e71caf964a520f8ed26e3\n",
            "No data available for id= 56e0aba1498e940b849c48f6\n",
            "No data available for id= 50eab63be4b09d1aedfe4e75\n",
            "No data available for id= 518907b0498e1bdcf2664496\n",
            "No data available for id= 518907b0498e1bdcf2664496\n",
            "No data available for id= 4bcdc6bd937ca593fa40ad92\n",
            "No data available for id= 59d793890a464d2a7845df62\n",
            "No data available for id= 515a1b3ee4b0f84f522c4b7f\n",
            "                         ID        Name    Type  Likes  Rating\n",
            "0  40a16900f964a520f9f21ee3  Soho House  Lounge   1101     9.2\n",
            "No data available for id= 49d3d4a7f964a5201a5c1fe3\n",
            "No data available for id= 4ac7e4a7f964a52065ba20e3\n",
            "No data available for id= 5a71f5dafdb9a7499731c928\n",
            "No data available for id= 536020eb11d2ce653fb711d0\n",
            "                         ID             Name       Type  Likes  Rating\n",
            "0  4ab6c985f964a5200a7920e3  Greenwich Hotel  Hotel Bar     92     8.8\n",
            "No data available for id= 57c98c00498ede2ae6ad9755\n",
            "No data available for id= 3fd66200f964a520bbe61ee3\n",
            "No data available for id= 5a71f5dafdb9a7499731c928\n",
            "No data available for id= 51050d4e5262d6654ddc83e1\n",
            "                         ID                 Name    Type  Likes  Rating\n",
            "0  578692f4498e1054905dbde7  Hotel 50 Bowery NYC  Resort     71     9.0\n",
            "No data available for id= 4ac7e4a7f964a52065ba20e3\n",
            "No data available for id= 4ac7e4a7f964a52065ba20e3\n",
            "No data available for id= 5a71f5dafdb9a7499731c928\n",
            "No data available for id= 59d4126b8194fc768a2cfcde\n",
            "No data available for id= 554c1b85498efa107620d07e\n",
            "No data available for id= 4f22ca77e4b0ed3396a83a05\n",
            "No data available for id= 57c640ad498e74977f98372f\n",
            "                         ID             Name    Type  Likes  Rating\n",
            "0  57ab3eb5498e2efa275dfef3  AKA Wall Street  Resort     21     8.3\n",
            "No data available for id= 566c66b838fa37fd4827c98e\n",
            "No data available for id= 54aed577498ee5fc196739f7\n",
            "No data available for id= 56d8c0f8498edb854f926e6a\n",
            "No data available for id= 4bc382ebdce4eee1c8a2719d\n",
            "No data available for id= 5523e3a6498eef3943a338dc\n",
            "No data available for id= 569891a9498e0563f3617261\n",
            "No data available for id= 59a7f381ccad6b7122ad13dd\n",
            "No data available for id= 58217f14f5958470beea42d9\n",
            "No data available for id= 5578639e498eb1d3badc495f\n",
            "No data available for id= 5368e8d5498ec356083c4749\n",
            "No data available for id= 575df971498eeee07a23079c\n",
            "No data available for id= 522f406dbce6c9e333db1578\n",
            "No data available for id= 4bf9bcfdb182c9b69a78795a\n",
            "No data available for id= 4bc350f7dce4eee1838b719d\n",
            "No data available for id= 5983beda04d1ae5cf67bba7d\n",
            "No data available for id= 597a868d033693058a57056e\n",
            "No data available for id= 4a41ee2ff964a5209fa51fe3\n",
            "Empty DataFrame\n",
            "Columns: [ID, Name, Type, Likes, Rating]\n",
            "Index: []\n",
            "No data available for id= 522bb48011d2b2f9b3d237d4\n",
            "No data available for id= 4bc3bd01dce4eee107bb719d\n",
            "                         ID                                    Name    Type  \\\n",
            "0  52af19d111d24b820c70cad6  Crowne Plaza JFK Airport New York City  Resort   \n",
            "\n",
            "   Likes  Rating  \n",
            "0     81     7.0  \n",
            "Empty DataFrame\n",
            "Columns: [ID, Name, Type, Likes, Rating]\n",
            "Index: []\n",
            "No data available for id= 4ad4bb89f964a520f5e820e3\n",
            "No data available for id= 4ff6e46764a40b36eb17ac2c\n",
            "No data available for id= 5ba9d85942d8c2002cf94ce6\n",
            "Empty DataFrame\n",
            "Columns: [ID, Name, Type, Likes, Rating]\n",
            "Index: []\n",
            "No data available for id= 593ee5442ebb34636fb99f55\n",
            "Empty DataFrame\n",
            "Columns: [ID, Name, Type, Likes, Rating]\n",
            "Index: []\n",
            "No data available for id= 5b1ccd497cd14c0044b94f5e\n",
            "Empty DataFrame\n",
            "Columns: [ID, Name, Type, Likes, Rating]\n",
            "Index: []\n",
            "No data available for id= 4ffb2309e4b0cfb37152803c\n",
            "No data available for id= 4b7a05e0f964a5207b1f2fe3\n",
            "No data available for id= 5717bc73498ec5d6759b6935\n",
            "No data available for id= 5717bc73498ec5d6759b6935\n",
            "No data available for id= 5578639e498eb1d3badc495f\n",
            "Empty DataFrame\n",
            "Columns: [ID, Name, Type, Likes, Rating]\n",
            "Index: []\n",
            "No data available for id= 4c16d91c5e88c92826d62466\n",
            "No data available for id= 4b53f852f964a520c1af27e3\n",
            "Empty DataFrame\n",
            "Columns: [ID, Name, Type, Likes, Rating]\n",
            "Index: []\n",
            "No data available for id= 4bc41a1cdce4eee163f0719d\n",
            "No data available for id= 4c0055bfad15a5931dbe8d73\n",
            "No data available for id= 4c96c79482b56dcbd0bde4aa\n",
            "Empty DataFrame\n",
            "Columns: [ID, Name, Type, Likes, Rating]\n",
            "Index: []\n",
            "No data available for id= 4bc41a1ddce4eee165f0719d\n",
            "No data available for id= 4c0055bfad15a5931dbe8d73\n",
            "No data available for id= 587f8878c45ee34e4c6c2f8a\n",
            "No data available for id= 4ab04eb9f964a520fe6620e3\n",
            "No data available for id= 51050d4e5262d6654ddc83e1\n",
            "No data available for id= 57c640ad498e74977f98372f\n",
            "No data available for id= 56d8c0f8498edb854f926e6a\n",
            "No data available for id= 3fd66200f964a520bbe61ee3\n",
            "                         ID             Name       Type  Likes  Rating\n",
            "0  4ab6c985f964a5200a7920e3  Greenwich Hotel  Hotel Bar     92     8.8\n",
            "No data available for id= 4bec60a5f909ef3b2808a9c6\n",
            "                         ID             Name       Type  Likes  Rating\n",
            "0  4ae6f117f964a520a6a721e3  The NoMad Hotel  Roof Deck    361     9.3\n",
            "No data available for id= 518907b0498e1bdcf2664496\n",
            "Empty DataFrame\n",
            "Columns: [ID, Name, Type, Likes, Rating]\n",
            "Index: []\n",
            "No data available for id= 4bc41a1cdce4eee163f0719d\n",
            "No data available for id= 5ba9d85942d8c2002cf94ce6\n",
            "Empty DataFrame\n",
            "Columns: [ID, Name, Type, Likes, Rating]\n",
            "Index: []\n",
            "No data available for id= 5b1ccd497cd14c0044b94f5e\n",
            "Empty DataFrame\n",
            "Columns: [ID, Name, Type, Likes, Rating]\n",
            "Index: []\n",
            "No data available for id= 4ffb2309e4b0cfb37152803c\n",
            "Empty DataFrame\n",
            "Columns: [ID, Name, Type, Likes, Rating]\n",
            "Index: []\n",
            "No data available for id= 593ee5442ebb34636fb99f55\n",
            "No data available for id= 4b7a05e0f964a5207b1f2fe3\n",
            "Empty DataFrame\n",
            "Columns: [ID, Name, Type, Likes, Rating]\n",
            "Index: []\n",
            "No data available for id= 573f99df498ea33968800d06\n",
            "No data available for id= 4bded394fe0e62b5b8fa0506\n",
            "No data available for id= 4afb479af964a520951c22e3\n",
            "No data available for id= 4e87b2e329c23b6afa01d71a\n",
            "No data available for id= 4d1b7e9502a66dcb92846965\n",
            "No data available for id= 4a7b8beaf964a52058eb1fe3\n",
            "No data available for id= 4fe0634b7beb303528d17f94\n",
            "No data available for id= 4a2af98bf964a52077961fe3\n",
            "No data available for id= 5600aefd498e62f1e09fb66f\n",
            "No data available for id= 554c1b85498efa107620d07e\n",
            "No data available for id= 59d4126b8194fc768a2cfcde\n",
            "No data available for id= 4bc350f7dce4eee1838b719d\n",
            "                         ID                     Name          Type  Likes  \\\n",
            "0  57ed4330498e34539123c310  1 Hotel Brooklyn Bridge  Wedding Hall    237   \n",
            "\n",
            "   Rating  \n",
            "0     9.1  \n",
            "No data available for id= 53c5b244498e0ffbbdc92ef4\n",
            "                         ID                     Name          Type  Likes  \\\n",
            "0  57ed4330498e34539123c310  1 Hotel Brooklyn Bridge  Wedding Hall    237   \n",
            "\n",
            "   Rating  \n",
            "0     9.1  \n",
            "No data available for id= 4bc35177dce4eee1c38b719d\n",
            "No data available for id= 4b58b0a5f964a520d66528e3\n",
            "No data available for id= 558dff09498e0910b7cbf9bd\n",
            "No data available for id= 4da5dd2fcda1c55f755f88c5\n",
            "No data available for id= 53c5b774498e3c9a5c9219b8\n",
            "No data available for id= 4ee2659f61aff90fe487904f\n",
            "No data available for id= 5a7b352bd807ee3ef81d893c\n",
            "No data available for id= 4bf9bcfdb182c9b69a78795a\n",
            "No data available for id= 5578639e498eb1d3badc495f\n",
            "No data available for id= 5523e3a6498eef3943a338dc\n",
            "No data available for id= 4f7f7611e4b09855f239377e\n",
            "No data available for id= 59a7f381ccad6b7122ad13dd\n",
            "No data available for id= 569891a9498e0563f3617261\n",
            "No data available for id= 4b494c3df964a520c36c26e3\n",
            "No data available for id= 58217f14f5958470beea42d9\n",
            "                         ID         Name                 Type  Likes  Rating\n",
            "0  4dfa7f1c8877b30c3988120f  Z NYC Hotel  American Restaurant     73     6.9\n",
            "No data available for id= 57193525498e590d64281443\n",
            "No data available for id= 4bd2ecbf9854d13a017efc4d\n"
          ]
        }
      ],
      "execution_count": 94,
      "metadata": {
        "button": false,
        "new_sheet": false,
        "run_control": {
          "read_only": false
        }
      }
    },
    {
      "cell_type": "markdown",
      "source": [
        "#### Drop hotels missing available data"
      ],
      "metadata": {}
    },
    {
      "cell_type": "code",
      "source": [
        "hotel_stats=hotel_stats_ny[hotel_stats_ny.ID != 0].reset_index(drop=True)"
      ],
      "outputs": [],
      "execution_count": 95,
      "metadata": {}
    },
    {
      "cell_type": "code",
      "source": [
        "hotel_stats"
      ],
      "outputs": [
        {
          "output_type": "execute_result",
          "execution_count": 96,
          "data": {
            "text/html": [
              "<div>\n",
              "<style scoped>\n",
              "    .dataframe tbody tr th:only-of-type {\n",
              "        vertical-align: middle;\n",
              "    }\n",
              "\n",
              "    .dataframe tbody tr th {\n",
              "        vertical-align: top;\n",
              "    }\n",
              "\n",
              "    .dataframe thead th {\n",
              "        text-align: right;\n",
              "    }\n",
              "</style>\n",
              "<table border=\"1\" class=\"dataframe\">\n",
              "  <thead>\n",
              "    <tr style=\"text-align: right;\">\n",
              "      <th></th>\n",
              "      <th>Borough</th>\n",
              "      <th>Neighborhood</th>\n",
              "      <th>ID</th>\n",
              "      <th>Name</th>\n",
              "      <th>Type</th>\n",
              "      <th>Likes</th>\n",
              "      <th>Rating</th>\n",
              "    </tr>\n",
              "  </thead>\n",
              "  <tbody>\n",
              "    <tr>\n",
              "      <th>0</th>\n",
              "      <td>Bronx</td>\n",
              "      <td>Co-op City</td>\n",
              "      <td>4ca57d6e14c33704d2d0b63b</td>\n",
              "      <td>Ramada Bronx</td>\n",
              "      <td>Motel</td>\n",
              "      <td>3</td>\n",
              "      <td>5.6</td>\n",
              "    </tr>\n",
              "    <tr>\n",
              "      <th>1</th>\n",
              "      <td>Bronx</td>\n",
              "      <td>Eastchester</td>\n",
              "      <td>4ca57d6e14c33704d2d0b63b</td>\n",
              "      <td>Ramada Bronx</td>\n",
              "      <td>Motel</td>\n",
              "      <td>3</td>\n",
              "      <td>5.6</td>\n",
              "    </tr>\n",
              "    <tr>\n",
              "      <th>2</th>\n",
              "      <td>Brooklyn</td>\n",
              "      <td>Brooklyn Heights</td>\n",
              "      <td>57ed4330498e34539123c310</td>\n",
              "      <td>1 Hotel Brooklyn Bridge</td>\n",
              "      <td>Wedding Hall</td>\n",
              "      <td>237</td>\n",
              "      <td>9.1</td>\n",
              "    </tr>\n",
              "    <tr>\n",
              "      <th>3</th>\n",
              "      <td>Manhattan</td>\n",
              "      <td>Chinatown</td>\n",
              "      <td>578692f4498e1054905dbde7</td>\n",
              "      <td>Hotel 50 Bowery NYC</td>\n",
              "      <td>Resort</td>\n",
              "      <td>71</td>\n",
              "      <td>9.0</td>\n",
              "    </tr>\n",
              "    <tr>\n",
              "      <th>4</th>\n",
              "      <td>Manhattan</td>\n",
              "      <td>Upper East Side</td>\n",
              "      <td>4b37853af964a520c54125e3</td>\n",
              "      <td>The Mark Hotel</td>\n",
              "      <td>Hotel Bar</td>\n",
              "      <td>88</td>\n",
              "      <td>8.7</td>\n",
              "    </tr>\n",
              "    <tr>\n",
              "      <th>5</th>\n",
              "      <td>Manhattan</td>\n",
              "      <td>Upper East Side</td>\n",
              "      <td>4ae0e432f964a5206e8321e3</td>\n",
              "      <td>The Surrey</td>\n",
              "      <td>Spa</td>\n",
              "      <td>66</td>\n",
              "      <td>8.2</td>\n",
              "    </tr>\n",
              "    <tr>\n",
              "      <th>6</th>\n",
              "      <td>Manhattan</td>\n",
              "      <td>Chelsea</td>\n",
              "      <td>40a16900f964a520f9f21ee3</td>\n",
              "      <td>Soho House</td>\n",
              "      <td>Lounge</td>\n",
              "      <td>1101</td>\n",
              "      <td>9.2</td>\n",
              "    </tr>\n",
              "    <tr>\n",
              "      <th>7</th>\n",
              "      <td>Manhattan</td>\n",
              "      <td>Tribeca</td>\n",
              "      <td>4ab6c985f964a5200a7920e3</td>\n",
              "      <td>Greenwich Hotel</td>\n",
              "      <td>Hotel Bar</td>\n",
              "      <td>92</td>\n",
              "      <td>8.8</td>\n",
              "    </tr>\n",
              "    <tr>\n",
              "      <th>8</th>\n",
              "      <td>Manhattan</td>\n",
              "      <td>Little Italy</td>\n",
              "      <td>578692f4498e1054905dbde7</td>\n",
              "      <td>Hotel 50 Bowery NYC</td>\n",
              "      <td>Resort</td>\n",
              "      <td>71</td>\n",
              "      <td>9.0</td>\n",
              "    </tr>\n",
              "    <tr>\n",
              "      <th>9</th>\n",
              "      <td>Manhattan</td>\n",
              "      <td>Financial District</td>\n",
              "      <td>57ab3eb5498e2efa275dfef3</td>\n",
              "      <td>AKA Wall Street</td>\n",
              "      <td>Resort</td>\n",
              "      <td>21</td>\n",
              "      <td>8.3</td>\n",
              "    </tr>\n",
              "    <tr>\n",
              "      <th>10</th>\n",
              "      <td>Queens</td>\n",
              "      <td>South Ozone Park</td>\n",
              "      <td>52af19d111d24b820c70cad6</td>\n",
              "      <td>Crowne Plaza JFK Airport New York City</td>\n",
              "      <td>Resort</td>\n",
              "      <td>81</td>\n",
              "      <td>7.0</td>\n",
              "    </tr>\n",
              "    <tr>\n",
              "      <th>11</th>\n",
              "      <td>Manhattan</td>\n",
              "      <td>Civic Center</td>\n",
              "      <td>4ab6c985f964a5200a7920e3</td>\n",
              "      <td>Greenwich Hotel</td>\n",
              "      <td>Hotel Bar</td>\n",
              "      <td>92</td>\n",
              "      <td>8.8</td>\n",
              "    </tr>\n",
              "    <tr>\n",
              "      <th>12</th>\n",
              "      <td>Manhattan</td>\n",
              "      <td>Midtown South</td>\n",
              "      <td>4ae6f117f964a520a6a721e3</td>\n",
              "      <td>The NoMad Hotel</td>\n",
              "      <td>Roof Deck</td>\n",
              "      <td>361</td>\n",
              "      <td>9.3</td>\n",
              "    </tr>\n",
              "    <tr>\n",
              "      <th>13</th>\n",
              "      <td>Brooklyn</td>\n",
              "      <td>Fulton Ferry</td>\n",
              "      <td>57ed4330498e34539123c310</td>\n",
              "      <td>1 Hotel Brooklyn Bridge</td>\n",
              "      <td>Wedding Hall</td>\n",
              "      <td>237</td>\n",
              "      <td>9.1</td>\n",
              "    </tr>\n",
              "    <tr>\n",
              "      <th>14</th>\n",
              "      <td>Brooklyn</td>\n",
              "      <td>Dumbo</td>\n",
              "      <td>57ed4330498e34539123c310</td>\n",
              "      <td>1 Hotel Brooklyn Bridge</td>\n",
              "      <td>Wedding Hall</td>\n",
              "      <td>237</td>\n",
              "      <td>9.1</td>\n",
              "    </tr>\n",
              "    <tr>\n",
              "      <th>15</th>\n",
              "      <td>Queens</td>\n",
              "      <td>Queensbridge</td>\n",
              "      <td>4dfa7f1c8877b30c3988120f</td>\n",
              "      <td>Z NYC Hotel</td>\n",
              "      <td>American Restaurant</td>\n",
              "      <td>73</td>\n",
              "      <td>6.9</td>\n",
              "    </tr>\n",
              "  </tbody>\n",
              "</table>\n",
              "</div>"
            ],
            "text/plain": [
              "      Borough        Neighborhood                        ID  \\\n",
              "0       Bronx          Co-op City  4ca57d6e14c33704d2d0b63b   \n",
              "1       Bronx         Eastchester  4ca57d6e14c33704d2d0b63b   \n",
              "2    Brooklyn    Brooklyn Heights  57ed4330498e34539123c310   \n",
              "3   Manhattan           Chinatown  578692f4498e1054905dbde7   \n",
              "4   Manhattan     Upper East Side  4b37853af964a520c54125e3   \n",
              "5   Manhattan     Upper East Side  4ae0e432f964a5206e8321e3   \n",
              "6   Manhattan             Chelsea  40a16900f964a520f9f21ee3   \n",
              "7   Manhattan             Tribeca  4ab6c985f964a5200a7920e3   \n",
              "8   Manhattan        Little Italy  578692f4498e1054905dbde7   \n",
              "9   Manhattan  Financial District  57ab3eb5498e2efa275dfef3   \n",
              "10     Queens    South Ozone Park  52af19d111d24b820c70cad6   \n",
              "11  Manhattan        Civic Center  4ab6c985f964a5200a7920e3   \n",
              "12  Manhattan       Midtown South  4ae6f117f964a520a6a721e3   \n",
              "13   Brooklyn        Fulton Ferry  57ed4330498e34539123c310   \n",
              "14   Brooklyn               Dumbo  57ed4330498e34539123c310   \n",
              "15     Queens        Queensbridge  4dfa7f1c8877b30c3988120f   \n",
              "\n",
              "                                      Name                 Type Likes  Rating  \n",
              "0                             Ramada Bronx                Motel     3     5.6  \n",
              "1                             Ramada Bronx                Motel     3     5.6  \n",
              "2                  1 Hotel Brooklyn Bridge         Wedding Hall   237     9.1  \n",
              "3                      Hotel 50 Bowery NYC               Resort    71     9.0  \n",
              "4                           The Mark Hotel            Hotel Bar    88     8.7  \n",
              "5                               The Surrey                  Spa    66     8.2  \n",
              "6                               Soho House               Lounge  1101     9.2  \n",
              "7                          Greenwich Hotel            Hotel Bar    92     8.8  \n",
              "8                      Hotel 50 Bowery NYC               Resort    71     9.0  \n",
              "9                          AKA Wall Street               Resort    21     8.3  \n",
              "10  Crowne Plaza JFK Airport New York City               Resort    81     7.0  \n",
              "11                         Greenwich Hotel            Hotel Bar    92     8.8  \n",
              "12                         The NoMad Hotel            Roof Deck   361     9.3  \n",
              "13                 1 Hotel Brooklyn Bridge         Wedding Hall   237     9.1  \n",
              "14                 1 Hotel Brooklyn Bridge         Wedding Hall   237     9.1  \n",
              "15                             Z NYC Hotel  American Restaurant    73     6.9  "
            ]
          },
          "metadata": {}
        }
      ],
      "execution_count": 96,
      "metadata": {}
    },
    {
      "cell_type": "markdown",
      "source": [
        "#### we can  see foursquare has more hotels data available in Manhattan , which also has the most variety of hotel types."
      ],
      "metadata": {
        "button": false,
        "new_sheet": false,
        "run_control": {
          "read_only": false
        }
      }
    },
    {
      "cell_type": "code",
      "source": [
        "hotel_stats.groupby(['Borough','Type'])['ID'].count().unstack().plot(kind='barh',stacked=True,figsize=(9,5))\n",
        "plt.show()"
      ],
      "outputs": [
        {
          "output_type": "display_data",
          "data": {
            "image/png": "[encoded data removed]",
            "text/plain": [
              "<matplotlib.figure.Figure at 0x7f264b7f89e8>"
            ]
          },
          "metadata": {}
        }
      ],
      "execution_count": 347,
      "metadata": {}
    },
    {
      "cell_type": "markdown",
      "source": [
        "   "
      ],
      "metadata": {
        "button": false,
        "new_sheet": false,
        "run_control": {
          "read_only": false
        }
      }
    },
    {
      "cell_type": "markdown",
      "source": [
        "<a id=\"item2\"></a>"
      ],
      "metadata": {
        "button": false,
        "new_sheet": false,
        "run_control": {
          "read_only": false
        }
      }
    },
    {
      "cell_type": "markdown",
      "source": [
        "## 2. Explore an affordable hotel in Manhattan\n",
        "> https://www.kayak.com/New-York-Hotels.15830.hotel.ksp?gclid=CjwKCAjwue3nBRACEiwAkpZhmR_lQCbfWMLn47unjmDwp_ulQkb8xA96Sl_p8JF55zVpUnl3hrQtjRoCfPEQAvD_BwE"
      ],
      "metadata": {
        "button": false,
        "new_sheet": false,
        "run_control": {
          "read_only": false
        }
      }
    },
    {
      "cell_type": "markdown",
      "source": [
        "> - Downtown Manhattan is a calm and historic area south of 14th Street, where you can find Hilton Garden Inn New York, which provides amenities including a gym. Midtown is located between 34th Street and 59th Street, near the busy Times Square area, where you can find The Roosevelt Hotel, which has rooms with a terrace.\n",
        "> - If you’re visiting Manhattan on a budget, there are some **affordable options** if you are willing to stay a bit further from Times Square. Consider the Upper West Side or Upper East Side, where you can go for a walk in Central Park or enjoy attractions like the Museum of Modern Art (MoMA). A convenient option in these areas could be the Empire Hotel, which has a rooftop pool. Another cheap option could be The Franklin Hotel, which provides a free breakfast.\n",
        "> - Those attracted to outdoors and green spaces should head to **Greenwich Village**, just a 10-minute subway ride away from Central Park. There you will find several hotels with a pool, where you can relax after taking in the surroundings. Some examples are the Saratoga Hilton, the **Holiday Inn Saratoga Springs**, the Union Gables Bed & Breakfast and the Landmark Motor Inn."
      ],
      "metadata": {
        "button": false,
        "new_sheet": false,
        "run_control": {
          "read_only": false
        }
      }
    },
    {
      "cell_type": "code",
      "source": [
        "man_stats=hotel_stats[hotel_stats['Borough']=='Manhattan'].sort_values(by=['Likes', 'Rating'],ascending=False)\n",
        "man_stats=man_stats[['Name','Likes','Rating']].drop_duplicates().set_index(['Name'])\n",
        "man_stats.plot(kind='barh',stacked=True, figsize=(9,5))\n",
        "plt.ylabel('Hotel', fontsize = 13)\n",
        "plt.show()\n",
        "plt.close()"
      ],
      "outputs": [
        {
          "output_type": "display_data",
          "data": {
            "image/png": "[encoded data removed]",
            "text/plain": [
              "<matplotlib.figure.Figure at 0x7f264b5f5f60>"
            ]
          },
          "metadata": {}
        }
      ],
      "execution_count": 348,
      "metadata": {}
    },
    {
      "cell_type": "markdown",
      "source": [
        "#### Top rated ones are not easy on a budget.  However we can see Soho house has way better ratings than the rest."
      ],
      "metadata": {}
    },
    {
      "cell_type": "markdown",
      "source": [
        "### Pod 39 Hotel\n",
        "> In an elegant brick building in Manhattan’s Murray Hill, this excellent **budget** option opened following the success of sister hotel, The Pod. It trumps the elder sibling – now renamed Pod 51 – as all its rooms are en suite and it has a fabulous brick-pillared rooftop bar serving tacos and a warm atmosphere amid fairylights and stunning views. The rooms, some with bunk beds, are called pods given their compact size and may not suit everyone. But with prices among the most competitive in Manhattan, budgeters will be happy. Other nice touches include free passes to customised group walking tours of the city, held four days a week by guides Streetwise New York.\n",
        "> https://www.theguardian.com/travel/2016/jun/20/10-best-affordable-new-hotels-new-york-city-brooklyn"
      ],
      "metadata": {}
    },
    {
      "cell_type": "code",
      "source": [
        "hotel_ny[hotel_ny['Name']=='Pod 39 Hotel']"
      ],
      "outputs": [
        {
          "output_type": "execute_result",
          "execution_count": 157,
          "data": {
            "text/html": [
              "<div>\n",
              "<style scoped>\n",
              "    .dataframe tbody tr th:only-of-type {\n",
              "        vertical-align: middle;\n",
              "    }\n",
              "\n",
              "    .dataframe tbody tr th {\n",
              "        vertical-align: top;\n",
              "    }\n",
              "\n",
              "    .dataframe thead th {\n",
              "        text-align: right;\n",
              "    }\n",
              "</style>\n",
              "<table border=\"1\" class=\"dataframe\">\n",
              "  <thead>\n",
              "    <tr style=\"text-align: right;\">\n",
              "      <th></th>\n",
              "      <th>Borough</th>\n",
              "      <th>Neighborhood</th>\n",
              "      <th>ID</th>\n",
              "      <th>Name</th>\n",
              "    </tr>\n",
              "  </thead>\n",
              "  <tbody>\n",
              "    <tr>\n",
              "      <th>121</th>\n",
              "      <td>Manhattan</td>\n",
              "      <td>Tudor City</td>\n",
              "      <td>4fe0634b7beb303528d17f94</td>\n",
              "      <td>Pod 39 Hotel</td>\n",
              "    </tr>\n",
              "  </tbody>\n",
              "</table>\n",
              "</div>"
            ],
            "text/plain": [
              "       Borough Neighborhood                        ID          Name\n",
              "121  Manhattan   Tudor City  4fe0634b7beb303528d17f94  Pod 39 Hotel"
            ]
          },
          "metadata": {}
        }
      ],
      "execution_count": 157,
      "metadata": {}
    },
    {
      "cell_type": "markdown",
      "source": [
        "#### Get the venue's details"
      ],
      "metadata": {}
    },
    {
      "cell_type": "code",
      "source": [
        "venue_id = '4fe0634b7beb303528d17f94' \n",
        "url = 'https://api.foursquare.com/v2/venues/{}?client_id={}&client_secret={}&v={}'.format(venue_id, CLIENT_ID, CLIENT_SECRET, VERSION)\n",
        "result = requests.get(url).json()\n"
      ],
      "outputs": [],
      "execution_count": 191,
      "metadata": {
        "button": false,
        "new_sheet": false,
        "run_control": {
          "read_only": false
        }
      }
    },
    {
      "cell_type": "markdown",
      "source": [
        "####  Get the venue's overall rating"
      ],
      "metadata": {
        "button": false,
        "new_sheet": false,
        "run_control": {
          "read_only": false
        }
      }
    },
    {
      "cell_type": "code",
      "source": [
        "\n",
        "try:\n",
        "    print(result['response']['venue']['rating'])\n",
        "except:\n",
        "    print('This venue has not been rated yet.')"
      ],
      "outputs": [
        {
          "output_type": "stream",
          "name": "stdout",
          "text": [
            "8.4\n"
          ]
        }
      ],
      "execution_count": 184,
      "metadata": {
        "button": false,
        "new_sheet": false,
        "run_control": {
          "read_only": false
        }
      }
    },
    {
      "cell_type": "markdown",
      "source": [
        "Relatively good rating considering price."
      ],
      "metadata": {
        "button": false,
        "new_sheet": false,
        "run_control": {
          "read_only": false
        }
      }
    },
    {
      "cell_type": "markdown",
      "source": [
        "#### Get the number of tips"
      ],
      "metadata": {
        "button": false,
        "new_sheet": false,
        "run_control": {
          "read_only": false
        }
      }
    },
    {
      "cell_type": "code",
      "source": [
        "result['response']['venue']['tips']['count']"
      ],
      "outputs": [
        {
          "output_type": "execute_result",
          "execution_count": 185,
          "data": {
            "text/plain": [
              "113"
            ]
          },
          "metadata": {}
        }
      ],
      "execution_count": 185,
      "metadata": {
        "button": false,
        "new_sheet": false,
        "run_control": {
          "read_only": false
        }
      }
    },
    {
      "cell_type": "markdown",
      "source": [
        "#### Get the venue's tips\n"
      ],
      "metadata": {
        "button": false,
        "new_sheet": false,
        "run_control": {
          "read_only": false
        }
      }
    },
    {
      "cell_type": "markdown",
      "source": [
        "Create URL and send GET request. Make sure to set limit to get all tips"
      ],
      "metadata": {
        "button": false,
        "new_sheet": false,
        "run_control": {
          "read_only": false
        }
      }
    },
    {
      "cell_type": "code",
      "source": [
        "limit = 15 # set limit to be greater than or equal to the total number of tips\n",
        "url = 'https://api.foursquare.com/v2/venues/{}/tips?client_id={}&client_secret={}&v={}&limit={}'.format(venue_id, CLIENT_ID, CLIENT_SECRET, VERSION, limit)\n",
        "results = requests.get(url).json()\n",
        "results"
      ],
      "outputs": [
        {
          "output_type": "execute_result",
          "execution_count": 186,
          "data": {
            "text/plain": [
              "{'meta': {'code': 200, 'requestId': '5cfbe9eedb04f52f6130ad39'},\n",
              " 'response': {'tips': {'count': 113,\n",
              "   'items': [{'agreeCount': 3,\n",
              "     'canonicalUrl': 'https://foursquare.com/item/50d23f6ae4b0d3035596b148',\n",
              "     'createdAt': 1355956074,\n",
              "     'disagreeCount': 0,\n",
              "     'id': '50d23f6ae4b0d3035596b148',\n",
              "     'lang': 'en',\n",
              "     'likes': {'count': 0, 'groups': []},\n",
              "     'logView': True,\n",
              "     'photo': {'createdAt': 1355956090,\n",
              "      'height': 540,\n",
              "      'id': '50d23f7ae4b0347489b62c5c',\n",
              "      'prefix': 'https://fastly.4sqi.net/img/general/',\n",
              "      'source': {'name': 'Foursquare for iOS',\n",
              "       'url': 'https://foursquare.com/download/#/iphone'},\n",
              "      'suffix': '/16366048_DAsP_CUwwvQxE_QaTWN4h8gpINUoVdgFCxkB_RZVbzM.jpg',\n",
              "      'visibility': 'public',\n",
              "      'width': 720},\n",
              "     'photourl': 'https://fastly.4sqi.net/img/general/original/16366048_DAsP_CUwwvQxE_QaTWN4h8gpINUoVdgFCxkB_RZVbzM.jpg',\n",
              "     'text': \"Best hotel room ever! So efficient. There's a mini table, light and outlet by each pillow, tv at the end of each bed and see through shower/bathroom wall (awkward when staying with your guy friend...)\",\n",
              "     'todo': {'count': 0},\n",
              "     'type': 'user',\n",
              "     'user': {'firstName': 'Kelly',\n",
              "      'gender': 'female',\n",
              "      'id': '16366048',\n",
              "      'lastName': 'D',\n",
              "      'photo': {'prefix': 'https://fastly.4sqi.net/img/user/',\n",
              "       'suffix': '/JBPZ51I1RR13OELO.jpg'}}},\n",
              "    {'agreeCount': 1,\n",
              "     'canonicalUrl': 'https://foursquare.com/item/57c55982cd102cbf0bc01b7e',\n",
              "     'createdAt': 1472551298,\n",
              "     'disagreeCount': 0,\n",
              "     'id': '57c55982cd102cbf0bc01b7e',\n",
              "     'lang': 'en',\n",
              "     'likes': {'count': 0, 'groups': []},\n",
              "     'logView': True,\n",
              "     'text': \"All-round cool, modern, good value-for-money hotel in a very convenient location in Manhattan. Just one thing to make it better - remove the captive login for the Wi-Fi. It's really annoying!\",\n",
              "     'todo': {'count': 0},\n",
              "     'type': 'user',\n",
              "     'user': {'firstName': 'Kenneth',\n",
              "      'gender': 'male',\n",
              "      'id': '14934823',\n",
              "      'lastName': 'M',\n",
              "      'photo': {'prefix': 'https://fastly.4sqi.net/img/user/',\n",
              "       'suffix': '/14934823-U3VSI0Z2ZX4MHEWY.jpg'}}}]}}}"
            ]
          },
          "metadata": {}
        }
      ],
      "execution_count": 186,
      "metadata": {
        "button": false,
        "new_sheet": false,
        "run_control": {
          "read_only": false
        }
      }
    },
    {
      "cell_type": "markdown",
      "source": [
        "#### Get tips and list of associated features"
      ],
      "metadata": {
        "button": false,
        "new_sheet": false,
        "run_control": {
          "read_only": false
        }
      }
    },
    {
      "cell_type": "code",
      "source": [
        "tips = results['response']['tips']['items']\n",
        "\n",
        "tip = results['response']['tips']['items'][0]\n",
        "tip.keys()"
      ],
      "outputs": [
        {
          "output_type": "execute_result",
          "execution_count": 187,
          "data": {
            "text/plain": [
              "dict_keys(['user', 'type', 'id', 'lang', 'agreeCount', 'createdAt', 'canonicalUrl', 'logView', 'todo', 'photo', 'text', 'photourl', 'likes', 'disagreeCount'])"
            ]
          },
          "metadata": {}
        }
      ],
      "execution_count": 187,
      "metadata": {
        "button": false,
        "new_sheet": false,
        "run_control": {
          "read_only": false
        }
      }
    },
    {
      "cell_type": "markdown",
      "source": [
        "#### Format column width and display all tips"
      ],
      "metadata": {
        "button": false,
        "new_sheet": false,
        "run_control": {
          "read_only": false
        }
      }
    },
    {
      "cell_type": "code",
      "source": [
        "pd.set_option('display.max_colwidth', -1)\n",
        "from pandas.io.json import json_normalize\n",
        "tips_df = json_normalize(tips) # json normalize tips\n",
        "filtered_columns = ['text', 'agreeCount', 'disagreeCount', 'id', 'user.firstName', 'user.lastName', 'user.gender', 'user.id']\n",
        "tips_filtered = tips_df.loc[:, filtered_columns]\n",
        "\n",
        "tips_filtered"
      ],
      "outputs": [
        {
          "output_type": "execute_result",
          "execution_count": 192,
          "data": {
            "text/html": [
              "<div>\n",
              "<style scoped>\n",
              "    .dataframe tbody tr th:only-of-type {\n",
              "        vertical-align: middle;\n",
              "    }\n",
              "\n",
              "    .dataframe tbody tr th {\n",
              "        vertical-align: top;\n",
              "    }\n",
              "\n",
              "    .dataframe thead th {\n",
              "        text-align: right;\n",
              "    }\n",
              "</style>\n",
              "<table border=\"1\" class=\"dataframe\">\n",
              "  <thead>\n",
              "    <tr style=\"text-align: right;\">\n",
              "      <th></th>\n",
              "      <th>text</th>\n",
              "      <th>agreeCount</th>\n",
              "      <th>disagreeCount</th>\n",
              "      <th>id</th>\n",
              "      <th>user.firstName</th>\n",
              "      <th>user.lastName</th>\n",
              "      <th>user.gender</th>\n",
              "      <th>user.id</th>\n",
              "    </tr>\n",
              "  </thead>\n",
              "  <tbody>\n",
              "    <tr>\n",
              "      <th>0</th>\n",
              "      <td>Best hotel room ever! So efficient. There's a mini table, light and outlet by each pillow, tv at the end of each bed and see through shower/bathroom wall (awkward when staying with your guy friend...)</td>\n",
              "      <td>3</td>\n",
              "      <td>0</td>\n",
              "      <td>50d23f6ae4b0d3035596b148</td>\n",
              "      <td>Kelly</td>\n",
              "      <td>D</td>\n",
              "      <td>female</td>\n",
              "      <td>16366048</td>\n",
              "    </tr>\n",
              "    <tr>\n",
              "      <th>1</th>\n",
              "      <td>All-round cool, modern, good value-for-money hotel in a very convenient location in Manhattan. Just one thing to make it better - remove the captive login for the Wi-Fi. It's really annoying!</td>\n",
              "      <td>1</td>\n",
              "      <td>0</td>\n",
              "      <td>57c55982cd102cbf0bc01b7e</td>\n",
              "      <td>Kenneth</td>\n",
              "      <td>M</td>\n",
              "      <td>male</td>\n",
              "      <td>14934823</td>\n",
              "    </tr>\n",
              "  </tbody>\n",
              "</table>\n",
              "</div>"
            ],
            "text/plain": [
              "                                                                                                                                                                                                       text  \\\n",
              "0  Best hotel room ever! So efficient. There's a mini table, light and outlet by each pillow, tv at the end of each bed and see through shower/bathroom wall (awkward when staying with your guy friend...)   \n",
              "1  All-round cool, modern, good value-for-money hotel in a very convenient location in Manhattan. Just one thing to make it better - remove the captive login for the Wi-Fi. It's really annoying!            \n",
              "\n",
              "   agreeCount  disagreeCount                        id user.firstName  \\\n",
              "0  3           0              50d23f6ae4b0d3035596b148  Kelly           \n",
              "1  1           0              57c55982cd102cbf0bc01b7e  Kenneth         \n",
              "\n",
              "  user.lastName user.gender   user.id  \n",
              "0  D             female      16366048  \n",
              "1  M             male        14934823  "
            ]
          },
          "metadata": {}
        }
      ],
      "execution_count": 192,
      "metadata": {
        "button": false,
        "new_sheet": false,
        "run_control": {
          "read_only": false
        },
        "scrolled": false
      }
    },
    {
      "cell_type": "markdown",
      "source": [
        "#### Explore venues near hotel"
      ],
      "metadata": {}
    },
    {
      "cell_type": "code",
      "source": [
        "url = 'https://api.foursquare.com/v2/venues/{}/nextvenues?client_id={}&client_secret={}&v={}&limit={}'.format(venue_id, CLIENT_ID, CLIENT_SECRET, VERSION, limit)\n",
        "results = requests.get(url).json()\n"
      ],
      "outputs": [
        {
          "output_type": "execute_result",
          "execution_count": 193,
          "data": {
            "text/plain": [
              "{'meta': {'code': 200, 'requestId': '5cfbedaaf594df57ec474405'},\n",
              " 'response': {'nextVenues': {'count': 5,\n",
              "   'items': [{'categories': [{'icon': {'prefix': 'https://ss3.4sqi.net/img/categories_v2/nightlife/cocktails_',\n",
              "        'suffix': '.png'},\n",
              "       'id': '4bf58dd8d48988d11e941735',\n",
              "       'name': 'Cocktail Bar',\n",
              "       'pluralName': 'Cocktail Bars',\n",
              "       'primary': True,\n",
              "       'shortName': 'Cocktail'}],\n",
              "     'id': '502eabc5e4b0bde7260e8391',\n",
              "     'location': {'address': '145 E 39th St',\n",
              "      'cc': 'US',\n",
              "      'city': 'New York',\n",
              "      'country': 'United States',\n",
              "      'crossStreet': 'btw Lexington & 3rd Ave',\n",
              "      'formattedAddress': ['145 E 39th St (btw Lexington & 3rd Ave)',\n",
              "       'New York, NY 10016',\n",
              "       'United States'],\n",
              "      'labeledLatLngs': [{'label': 'display',\n",
              "        'lat': 40.749300142910926,\n",
              "        'lng': -73.97670163802239}],\n",
              "      'lat': 40.749300142910926,\n",
              "      'lng': -73.97670163802239,\n",
              "      'postalCode': '10016',\n",
              "      'state': 'NY'},\n",
              "     'name': 'Pod 39 Rooftop Bar'},\n",
              "    {'categories': [{'icon': {'prefix': 'https://ss3.4sqi.net/img/categories_v2/food/coffeeshop_',\n",
              "        'suffix': '.png'},\n",
              "       'id': '4bf58dd8d48988d1e0931735',\n",
              "       'name': 'Coffee Shop',\n",
              "       'pluralName': 'Coffee Shops',\n",
              "       'primary': True,\n",
              "       'shortName': 'Coffee Shop'}],\n",
              "     'id': '44afd4e4f964a5202d351fe3',\n",
              "     'location': {'address': '360 Lexington Ave',\n",
              "      'cc': 'US',\n",
              "      'city': 'New York',\n",
              "      'country': 'United States',\n",
              "      'crossStreet': 'at E 40th St',\n",
              "      'formattedAddress': ['360 Lexington Ave (at E 40th St)',\n",
              "       'New York, NY 10017',\n",
              "       'United States'],\n",
              "      'labeledLatLngs': [{'label': 'display',\n",
              "        'lat': 40.75033,\n",
              "        'lng': -73.97704}],\n",
              "      'lat': 40.75033,\n",
              "      'lng': -73.97704,\n",
              "      'postalCode': '10017',\n",
              "      'state': 'NY'},\n",
              "     'name': 'Starbucks'},\n",
              "    {'categories': [{'icon': {'prefix': 'https://ss3.4sqi.net/img/categories_v2/food/diner_',\n",
              "        'suffix': '.png'},\n",
              "       'id': '4bf58dd8d48988d147941735',\n",
              "       'name': 'Diner',\n",
              "       'pluralName': 'Diners',\n",
              "       'primary': True,\n",
              "       'shortName': 'Diner'}],\n",
              "     'delivery': {'id': '273721',\n",
              "      'provider': {'icon': {'name': '/delivery_provider_seamless_20180129.png',\n",
              "        'prefix': 'https://fastly.4sqi.net/img/general/cap/',\n",
              "        'sizes': [40, 50]},\n",
              "       'name': 'seamless'},\n",
              "      'url': 'https://www.seamless.com/menu/scottys-diner-336-lexington-ave-new-york/273721?affiliate=1131&utm_source=foursquare-affiliate-network&utm_medium=affiliate&utm_campaign=1131&utm_content=273721'},\n",
              "     'id': '4a62028cf964a520d2c21fe3',\n",
              "     'location': {'address': '336 Lexington Ave',\n",
              "      'cc': 'US',\n",
              "      'city': 'New York',\n",
              "      'country': 'United States',\n",
              "      'crossStreet': 'btwn 39th St & 40th St',\n",
              "      'formattedAddress': ['336 Lexington Ave (btwn 39th St & 40th St)',\n",
              "       'New York, NY 10016',\n",
              "       'United States'],\n",
              "      'labeledLatLngs': [{'label': 'display',\n",
              "        'lat': 40.749718,\n",
              "        'lng': -73.977469}],\n",
              "      'lat': 40.749718,\n",
              "      'lng': -73.977469,\n",
              "      'postalCode': '10016',\n",
              "      'state': 'NY'},\n",
              "     'name': \"Scotty's Diner\",\n",
              "     'venuePage': {'id': '68082609'}},\n",
              "    {'categories': [{'icon': {'prefix': 'https://ss3.4sqi.net/img/categories_v2/food/burger_',\n",
              "        'suffix': '.png'},\n",
              "       'id': '4bf58dd8d48988d16c941735',\n",
              "       'name': 'Burger Joint',\n",
              "       'pluralName': 'Burger Joints',\n",
              "       'primary': True,\n",
              "       'shortName': 'Burgers'}],\n",
              "     'id': '5460fb3b498e94400cc7fd29',\n",
              "     'location': {'address': '600 3rd Ave',\n",
              "      'cc': 'US',\n",
              "      'city': 'New York',\n",
              "      'country': 'United States',\n",
              "      'crossStreet': 'at E 40th St',\n",
              "      'formattedAddress': ['600 3rd Ave (at E 40th St)',\n",
              "       'New York, NY 10016',\n",
              "       'United States'],\n",
              "      'labeledLatLngs': [{'label': 'display',\n",
              "        'lat': 40.74966574698551,\n",
              "        'lng': -73.97571869830242}],\n",
              "      'lat': 40.74966574698551,\n",
              "      'lng': -73.97571869830242,\n",
              "      'postalCode': '10016',\n",
              "      'state': 'NY'},\n",
              "     'name': 'Shake Shack'},\n",
              "    {'categories': [{'icon': {'prefix': 'https://ss3.4sqi.net/img/categories_v2/parks_outdoors/plaza_',\n",
              "        'suffix': '.png'},\n",
              "       'id': '4bf58dd8d48988d164941735',\n",
              "       'name': 'Plaza',\n",
              "       'pluralName': 'Plazas',\n",
              "       'primary': True,\n",
              "       'shortName': 'Plaza'}],\n",
              "     'id': '49b7ed6df964a52030531fe3',\n",
              "     'location': {'address': 'Broadway & 7th Ave',\n",
              "      'cc': 'US',\n",
              "      'city': 'New York',\n",
              "      'country': 'United States',\n",
              "      'crossStreet': 'btwn 42nd & 47th St',\n",
              "      'formattedAddress': ['Broadway & 7th Ave (btwn 42nd & 47th St)',\n",
              "       'New York, NY 10036',\n",
              "       'United States'],\n",
              "      'lat': 40.756936778141636,\n",
              "      'lng': -73.98603031011922,\n",
              "      'postalCode': '10036',\n",
              "      'state': 'NY'},\n",
              "     'name': 'Times Square'}]}}}"
            ]
          },
          "metadata": {}
        }
      ],
      "execution_count": 193,
      "metadata": {}
    },
    {
      "cell_type": "code",
      "source": [
        "nearby_list=[]\n",
        "for i in range(results['response']['nextVenues']['count']):\n",
        "    nearby=results['response']['nextVenues']['items'][:][i]['categories'][0]['shortName']\n",
        "    nearby_list.append(nearby)\n",
        "nearby_list"
      ],
      "outputs": [
        {
          "output_type": "execute_result",
          "execution_count": 234,
          "data": {
            "text/plain": [
              "['Cocktail', 'Coffee Shop', 'Diner', 'Burgers', 'Plaza']"
            ]
          },
          "metadata": {}
        }
      ],
      "execution_count": 234,
      "metadata": {}
    },
    {
      "cell_type": "markdown",
      "source": [
        "<a id=\"item3\"></a>"
      ],
      "metadata": {
        "button": false,
        "new_sheet": false,
        "run_control": {
          "read_only": false
        }
      }
    },
    {
      "cell_type": "markdown",
      "source": [
        "## 3. Search for a possible place for the new hotel\n"
      ],
      "metadata": {
        "button": false,
        "new_sheet": false,
        "run_control": {
          "read_only": false
        }
      }
    },
    {
      "cell_type": "markdown",
      "source": [
        "#### Search for similar hotels "
      ],
      "metadata": {}
    },
    {
      "cell_type": "code",
      "source": [
        "url = 'https://api.foursquare.com/v2/venues/{}/similar?client_id={}&client_secret={}&v={}&limit={}'.format(venue_id, CLIENT_ID, CLIENT_SECRET, VERSION, limit)\n",
        "results = requests.get(url).json()"
      ],
      "outputs": [],
      "execution_count": 235,
      "metadata": {
        "button": false,
        "new_sheet": false,
        "run_control": {
          "read_only": false
        }
      }
    },
    {
      "cell_type": "code",
      "source": [
        "column_names = ['ID', 'Name'] \n",
        "similar_list = []\n",
        "pd.DataFrame(columns=column_names)\n",
        "for i in range(results['response']['similarVenues']['count']):\n",
        "    similar_id=results['response']['similarVenues']['items'][i]['id']\n",
        "    similar_name=results['response']['similarVenues']['items'][i]['name']\n",
        "    similar_list.append([similar_id,similar_name])\n",
        "similar_df=pd.DataFrame(similar_list,columns=column_names)"
      ],
      "outputs": [],
      "execution_count": 253,
      "metadata": {}
    },
    {
      "cell_type": "markdown",
      "source": [
        "#### ID and Name of similar hotels "
      ],
      "metadata": {}
    },
    {
      "cell_type": "code",
      "source": [
        "similar_df"
      ],
      "outputs": [
        {
          "output_type": "execute_result",
          "execution_count": 254,
          "data": {
            "text/html": [
              "<div>\n",
              "<style scoped>\n",
              "    .dataframe tbody tr th:only-of-type {\n",
              "        vertical-align: middle;\n",
              "    }\n",
              "\n",
              "    .dataframe tbody tr th {\n",
              "        vertical-align: top;\n",
              "    }\n",
              "\n",
              "    .dataframe thead th {\n",
              "        text-align: right;\n",
              "    }\n",
              "</style>\n",
              "<table border=\"1\" class=\"dataframe\">\n",
              "  <thead>\n",
              "    <tr style=\"text-align: right;\">\n",
              "      <th></th>\n",
              "      <th>ID</th>\n",
              "      <th>Name</th>\n",
              "    </tr>\n",
              "  </thead>\n",
              "  <tbody>\n",
              "    <tr>\n",
              "      <th>0</th>\n",
              "      <td>43b042a4f964a520962c1fe3</td>\n",
              "      <td>The Roosevelt Hotel</td>\n",
              "    </tr>\n",
              "    <tr>\n",
              "      <th>1</th>\n",
              "      <td>48636489f964a520e0501fe3</td>\n",
              "      <td>Gramercy Park Hotel</td>\n",
              "    </tr>\n",
              "    <tr>\n",
              "      <th>2</th>\n",
              "      <td>4bc4f73c0191c9b6d2e8eab1</td>\n",
              "      <td>The Manhattan at Times Square Hotel</td>\n",
              "    </tr>\n",
              "    <tr>\n",
              "      <th>3</th>\n",
              "      <td>465f30baf964a52054471fe3</td>\n",
              "      <td>Dream Midtown</td>\n",
              "    </tr>\n",
              "    <tr>\n",
              "      <th>4</th>\n",
              "      <td>44d7b1f3f964a52070361fe3</td>\n",
              "      <td>W New York - Union Square</td>\n",
              "    </tr>\n",
              "  </tbody>\n",
              "</table>\n",
              "</div>"
            ],
            "text/plain": [
              "                         ID                                 Name\n",
              "0  43b042a4f964a520962c1fe3  The Roosevelt Hotel                \n",
              "1  48636489f964a520e0501fe3  Gramercy Park Hotel                \n",
              "2  4bc4f73c0191c9b6d2e8eab1  The Manhattan at Times Square Hotel\n",
              "3  465f30baf964a52054471fe3  Dream Midtown                      \n",
              "4  44d7b1f3f964a52070361fe3  W New York - Union Square          "
            ]
          },
          "metadata": {}
        }
      ],
      "execution_count": 254,
      "metadata": {}
    },
    {
      "cell_type": "markdown",
      "source": [
        "#### Get nearby venues of those similar hotels"
      ],
      "metadata": {}
    },
    {
      "cell_type": "code",
      "source": [
        "def nearby(venue_id):\n",
        "    url = 'https://api.foursquare.com/v2/venues/{}/nextvenues?client_id={}&client_secret={}&v={}&limit={}'.format(venue_id, CLIENT_ID, CLIENT_SECRET, VERSION, limit)\n",
        "    results = requests.get(url).json()\n",
        "    nearby_list=[]\n",
        "    for i in range(results['response']['nextVenues']['count']):\n",
        "        nearby=results['response']['nextVenues']['items'][:][i]['categories'][0]['shortName']\n",
        "        nearby_list.append(nearby)\n",
        "    return nearby_list"
      ],
      "outputs": [],
      "execution_count": 278,
      "metadata": {}
    },
    {
      "cell_type": "code",
      "source": [
        "nearby_l=[]\n",
        "for i in range(similar_df.shape[0]):\n",
        "    n=nearby(similar_df['ID'][i])\n",
        "    nearby_l.append(n)"
      ],
      "outputs": [],
      "execution_count": 321,
      "metadata": {}
    },
    {
      "cell_type": "code",
      "source": [
        "from itertools import chain\n",
        "nearby_l.append(nearby_list)\n",
        "nearby_venues=pd.DataFrame(list(chain.from_iterable(nearby_l)),columns=['name'])"
      ],
      "outputs": [],
      "execution_count": 322,
      "metadata": {}
    },
    {
      "cell_type": "code",
      "source": [
        "nearby_venues['count']=1\n",
        "nearby_venues=nearby_venues.groupby('name').count().sort_values(by='count',ascending=False)\n",
        "nearby_venues"
      ],
      "outputs": [
        {
          "output_type": "execute_result",
          "execution_count": 323,
          "data": {
            "text/html": [
              "<div>\n",
              "<style scoped>\n",
              "    .dataframe tbody tr th:only-of-type {\n",
              "        vertical-align: middle;\n",
              "    }\n",
              "\n",
              "    .dataframe tbody tr th {\n",
              "        vertical-align: top;\n",
              "    }\n",
              "\n",
              "    .dataframe thead th {\n",
              "        text-align: right;\n",
              "    }\n",
              "</style>\n",
              "<table border=\"1\" class=\"dataframe\">\n",
              "  <thead>\n",
              "    <tr style=\"text-align: right;\">\n",
              "      <th></th>\n",
              "      <th>count</th>\n",
              "    </tr>\n",
              "    <tr>\n",
              "      <th>name</th>\n",
              "      <th></th>\n",
              "    </tr>\n",
              "  </thead>\n",
              "  <tbody>\n",
              "    <tr>\n",
              "      <th>Plaza</th>\n",
              "      <td>6</td>\n",
              "    </tr>\n",
              "    <tr>\n",
              "      <th>Coffee Shop</th>\n",
              "      <td>3</td>\n",
              "    </tr>\n",
              "    <tr>\n",
              "      <th>Lounge</th>\n",
              "      <td>3</td>\n",
              "    </tr>\n",
              "    <tr>\n",
              "      <th>American</th>\n",
              "      <td>2</td>\n",
              "    </tr>\n",
              "    <tr>\n",
              "      <th>Italian</th>\n",
              "      <td>2</td>\n",
              "    </tr>\n",
              "    <tr>\n",
              "      <th>Park</th>\n",
              "      <td>2</td>\n",
              "    </tr>\n",
              "    <tr>\n",
              "      <th>Pub</th>\n",
              "      <td>1</td>\n",
              "    </tr>\n",
              "    <tr>\n",
              "      <th>Pizza</th>\n",
              "      <td>1</td>\n",
              "    </tr>\n",
              "    <tr>\n",
              "      <th>Nightclub</th>\n",
              "      <td>1</td>\n",
              "    </tr>\n",
              "    <tr>\n",
              "      <th>Hotel Bar</th>\n",
              "      <td>1</td>\n",
              "    </tr>\n",
              "    <tr>\n",
              "      <th>Bookstore</th>\n",
              "      <td>1</td>\n",
              "    </tr>\n",
              "    <tr>\n",
              "      <th>Farmer's Market</th>\n",
              "      <td>1</td>\n",
              "    </tr>\n",
              "    <tr>\n",
              "      <th>Electronics</th>\n",
              "      <td>1</td>\n",
              "    </tr>\n",
              "    <tr>\n",
              "      <th>Diner</th>\n",
              "      <td>1</td>\n",
              "    </tr>\n",
              "    <tr>\n",
              "      <th>Cocktail</th>\n",
              "      <td>1</td>\n",
              "    </tr>\n",
              "    <tr>\n",
              "      <th>Candy Store</th>\n",
              "      <td>1</td>\n",
              "    </tr>\n",
              "    <tr>\n",
              "      <th>Burgers</th>\n",
              "      <td>1</td>\n",
              "    </tr>\n",
              "    <tr>\n",
              "      <th>Roof Deck</th>\n",
              "      <td>1</td>\n",
              "    </tr>\n",
              "  </tbody>\n",
              "</table>\n",
              "</div>"
            ],
            "text/plain": [
              "                 count\n",
              "name                  \n",
              "Plaza            6    \n",
              "Coffee Shop      3    \n",
              "Lounge           3    \n",
              "American         2    \n",
              "Italian          2    \n",
              "Park             2    \n",
              "Pub              1    \n",
              "Pizza            1    \n",
              "Nightclub        1    \n",
              "Hotel Bar        1    \n",
              "Bookstore        1    \n",
              "Farmer's Market  1    \n",
              "Electronics      1    \n",
              "Diner            1    \n",
              "Cocktail         1    \n",
              "Candy Store      1    \n",
              "Burgers          1    \n",
              "Roof Deck        1    "
            ]
          },
          "metadata": {}
        }
      ],
      "execution_count": 323,
      "metadata": {}
    },
    {
      "cell_type": "markdown",
      "source": [
        "#### Display Top 5 venues near those similar hotels"
      ],
      "metadata": {}
    },
    {
      "cell_type": "code",
      "source": [
        "nearby_venues.head(5).plot(kind='barh', figsize=(9,5),color='#9467bd')\n",
        "plt.ylabel('Nearby Venues', fontsize = 13)\n",
        "plt.xlabel('Count', fontsize=13)\n",
        "plt.title('Top 5 venues of hotels', fontsize=14)\n",
        "plt.show()"
      ],
      "outputs": [
        {
          "output_type": "display_data",
          "data": {
            "image/png": "[encoded data removed]",
            "text/plain": [
              "<matplotlib.figure.Figure at 0x7f264bb94048>"
            ]
          },
          "metadata": {}
        }
      ],
      "execution_count": 356,
      "metadata": {}
    },
    {
      "cell_type": "markdown",
      "source": [
        "## 4. Find 5 possible neighborhood for the new hotel\n",
        "\n"
      ],
      "metadata": {
        "button": false,
        "new_sheet": false,
        "run_control": {
          "read_only": false
        }
      }
    },
    {
      "cell_type": "code",
      "source": [
        "l=nearby_venues.head(5).index.tolist()"
      ],
      "outputs": [],
      "execution_count": 392,
      "metadata": {}
    },
    {
      "cell_type": "code",
      "source": [
        "column_names=['Borough', 'Neighborhood']\n",
        "s=[]\n",
        "sm=[]\n",
        "for row in new_york_data.values.tolist():\n",
        "    Borough, Neighborhood, Latitude, Longitude=row\n",
        "    venues = get_venues(Latitude,Longitude)\n",
        "    cn=[]\n",
        "    for i in l:\n",
        "        nb=venues[venues['Category']==i]   \n",
        "        cn.append(str(len(nb)))\n",
        "    sm=[Borough,Neighborhood]+cn\n",
        "    s.append(sm)"
      ],
      "outputs": [],
      "execution_count": 384,
      "metadata": {
        "button": false,
        "new_sheet": false,
        "run_control": {
          "read_only": false
        }
      }
    },
    {
      "cell_type": "code",
      "source": [
        "df=pd.DataFrame(s,columns=column_names+l)\n",
        "df.sort_values(by=l,ascending=False,inplace=True)"
      ],
      "outputs": [],
      "execution_count": 389,
      "metadata": {}
    },
    {
      "cell_type": "code",
      "source": [
        "df.head(5)"
      ],
      "outputs": [
        {
          "output_type": "execute_result",
          "execution_count": 391,
          "data": {
            "text/html": [
              "<div>\n",
              "<style scoped>\n",
              "    .dataframe tbody tr th:only-of-type {\n",
              "        vertical-align: middle;\n",
              "    }\n",
              "\n",
              "    .dataframe tbody tr th {\n",
              "        vertical-align: top;\n",
              "    }\n",
              "\n",
              "    .dataframe thead th {\n",
              "        text-align: right;\n",
              "    }\n",
              "</style>\n",
              "<table border=\"1\" class=\"dataframe\">\n",
              "  <thead>\n",
              "    <tr style=\"text-align: right;\">\n",
              "      <th></th>\n",
              "      <th>Borough</th>\n",
              "      <th>Neighborhood</th>\n",
              "      <th>Plaza</th>\n",
              "      <th>Coffee Shop</th>\n",
              "      <th>Lounge</th>\n",
              "      <th>American</th>\n",
              "      <th>Italian</th>\n",
              "    </tr>\n",
              "  </thead>\n",
              "  <tbody>\n",
              "    <tr>\n",
              "      <th>112</th>\n",
              "      <td>Manhattan</td>\n",
              "      <td>Lincoln Square</td>\n",
              "      <td>4</td>\n",
              "      <td>5</td>\n",
              "      <td>1</td>\n",
              "      <td>1</td>\n",
              "      <td>4</td>\n",
              "    </tr>\n",
              "    <tr>\n",
              "      <th>127</th>\n",
              "      <td>Manhattan</td>\n",
              "      <td>Battery Park City</td>\n",
              "      <td>3</td>\n",
              "      <td>7</td>\n",
              "      <td>0</td>\n",
              "      <td>2</td>\n",
              "      <td>1</td>\n",
              "    </tr>\n",
              "    <tr>\n",
              "      <th>114</th>\n",
              "      <td>Manhattan</td>\n",
              "      <td>Midtown</td>\n",
              "      <td>3</td>\n",
              "      <td>4</td>\n",
              "      <td>1</td>\n",
              "      <td>1</td>\n",
              "      <td>2</td>\n",
              "    </tr>\n",
              "    <tr>\n",
              "      <th>58</th>\n",
              "      <td>Brooklyn</td>\n",
              "      <td>Windsor Terrace</td>\n",
              "      <td>3</td>\n",
              "      <td>4</td>\n",
              "      <td>0</td>\n",
              "      <td>3</td>\n",
              "      <td>5</td>\n",
              "    </tr>\n",
              "    <tr>\n",
              "      <th>59</th>\n",
              "      <td>Brooklyn</td>\n",
              "      <td>Prospect Heights</td>\n",
              "      <td>3</td>\n",
              "      <td>3</td>\n",
              "      <td>0</td>\n",
              "      <td>3</td>\n",
              "      <td>2</td>\n",
              "    </tr>\n",
              "  </tbody>\n",
              "</table>\n",
              "</div>"
            ],
            "text/plain": [
              "       Borough       Neighborhood Plaza Coffee Shop Lounge American Italian\n",
              "112  Manhattan  Lincoln Square     4     5           1      1        4     \n",
              "127  Manhattan  Battery Park City  3     7           0      2        1     \n",
              "114  Manhattan  Midtown            3     4           1      1        2     \n",
              "58   Brooklyn   Windsor Terrace    3     4           0      3        5     \n",
              "59   Brooklyn   Prospect Heights   3     3           0      3        2     "
            ]
          },
          "metadata": {}
        }
      ],
      "execution_count": 391,
      "metadata": {}
    },
    {
      "cell_type": "markdown",
      "source": [
        "<a id=\"item5\"></a>"
      ],
      "metadata": {
        "button": false,
        "new_sheet": false,
        "run_control": {
          "read_only": false
        }
      }
    },
    {
      "cell_type": "markdown",
      "source": [
        "## 5. Conclusion\n"
      ],
      "metadata": {
        "button": false,
        "new_sheet": false,
        "run_control": {
          "read_only": false
        }
      }
    },
    {
      "cell_type": "markdown",
      "source": [
        "- In terms of popularity, traffic flow an transportation, a new afforable hotel should be located in Manhattan. Possible neighborhoods using those set of data are Lincoln Square,Battery Park City\tand Midtown. Neighborhood can vary due to different clustering categories. \n",
        "- One obstacle of using Foursquare API for hotels is that many data are not available,thus rating and likes information can not be extracted, leading to nearly independing on those feedback data at all. \n",
        "- In this report i only used near by venues of similar hotels recommended by Foursquare API,which is feeded by my chosen prototype hotel,Pod 39.\n",
        "- As the answer to the project question, i would recommand Manhattan Midtown,upper east side and Greenwich Village. A good trade off between pricy place and passenger flow should be further studied."
      ],
      "metadata": {
        "button": false,
        "new_sheet": false,
        "run_control": {
          "read_only": false
        }
      }
    }
  ],
  "metadata": {
    "kernelspec": {
      "name": "python3",
      "language": "python",
      "display_name": "Python 3"
    },
    "language_info": {
      "name": "python",
      "version": "3.7.3",
      "mimetype": "text/x-python",
      "codemirror_mode": {
        "name": "ipython",
        "version": 3
      },
      "pygments_lexer": "ipython3",
      "nbconvert_exporter": "python",
      "file_extension": ".py"
    },
    "widgets": {
      "state": {},
      "version": "1.1.2"
    },
    "kernel_info": {
      "name": "python3"
    },
    "nteract": {
      "version": "0.14.2"
    }
  },
  "nbformat": 4,
  "nbformat_minor": 2
}